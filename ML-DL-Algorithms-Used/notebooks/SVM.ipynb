{
 "cells": [
  {
   "cell_type": "code",
   "execution_count": 2,
   "metadata": {},
   "outputs": [],
   "source": [
    "import pandas as pd\n",
    "import numpy as np\n",
    "from nltk.tokenize import word_tokenize\n",
    "from nltk import pos_tag\n",
    "from nltk.corpus import stopwords\n",
    "from nltk.stem import WordNetLemmatizer\n",
    "from sklearn.preprocessing import LabelEncoder\n",
    "from collections import defaultdict\n",
    "from nltk.corpus import wordnet as wn\n",
    "from sklearn.feature_extraction.text import TfidfVectorizer\n",
    "from sklearn import model_selection, naive_bayes, svm\n",
    "from sklearn.metrics import accuracy_score"
   ]
  },
  {
   "cell_type": "code",
   "execution_count": 3,
   "metadata": {},
   "outputs": [],
   "source": [
    "np.random.seed(500)"
   ]
  },
  {
   "cell_type": "code",
   "execution_count": 75,
   "metadata": {},
   "outputs": [],
   "source": [
    "#To Start from Cell 91.\n",
    "df=pd.read_csv(\"dataset.csv\")"
   ]
  },
  {
   "cell_type": "code",
   "execution_count": 76,
   "metadata": {},
   "outputs": [
    {
     "data": {
      "text/html": [
       "<div>\n",
       "<style scoped>\n",
       "    .dataframe tbody tr th:only-of-type {\n",
       "        vertical-align: middle;\n",
       "    }\n",
       "\n",
       "    .dataframe tbody tr th {\n",
       "        vertical-align: top;\n",
       "    }\n",
       "\n",
       "    .dataframe thead th {\n",
       "        text-align: right;\n",
       "    }\n",
       "</style>\n",
       "<table border=\"1\" class=\"dataframe\">\n",
       "  <thead>\n",
       "    <tr style=\"text-align: right;\">\n",
       "      <th></th>\n",
       "      <th>Unnamed: 0</th>\n",
       "      <th>url</th>\n",
       "      <th>repo</th>\n",
       "      <th>title</th>\n",
       "      <th>body</th>\n",
       "      <th>label</th>\n",
       "    </tr>\n",
       "  </thead>\n",
       "  <tbody>\n",
       "    <tr>\n",
       "      <th>0</th>\n",
       "      <td>0</td>\n",
       "      <td>https://github.com/ZeroOne010101/PS2_Jaeger_Ac...</td>\n",
       "      <td>ZeroOne010101/PS2_Jaeger_Accountbot</td>\n",
       "      <td>Append new column if neccesary</td>\n",
       "      <td>The bot should append a new column to add a date.</td>\n",
       "      <td>bug</td>\n",
       "    </tr>\n",
       "    <tr>\n",
       "      <th>1</th>\n",
       "      <td>1</td>\n",
       "      <td>https://github.com/csufmse/student_information...</td>\n",
       "      <td>csufmse/student_information_system</td>\n",
       "      <td>student.currentsemester would show all section...</td>\n",
       "      <td>Added a filter for current semester\\r\\n\\r\\n@oc...</td>\n",
       "      <td>bug</td>\n",
       "    </tr>\n",
       "    <tr>\n",
       "      <th>2</th>\n",
       "      <td>2</td>\n",
       "      <td>https://github.com/sphinx-doc/sphinx/issues/9076</td>\n",
       "      <td>sphinx-doc/sphinx</td>\n",
       "      <td>Duplicate articles in TOC causes weird behavior</td>\n",
       "      <td>My team handles documentation and tutorials fo...</td>\n",
       "      <td>bug</td>\n",
       "    </tr>\n",
       "    <tr>\n",
       "      <th>3</th>\n",
       "      <td>3</td>\n",
       "      <td>https://github.com/ansible/ansible/pull/74218</td>\n",
       "      <td>ansible/ansible</td>\n",
       "      <td>fix typo in _collection_finder.py</td>\n",
       "      <td>\\r\\n\\r\\n##### SUMMARY\\r\\n&lt;!--- Describe the ch...</td>\n",
       "      <td>bug</td>\n",
       "    </tr>\n",
       "    <tr>\n",
       "      <th>4</th>\n",
       "      <td>4</td>\n",
       "      <td>https://github.com/zimagi/zimagi/issues/54</td>\n",
       "      <td>zimagi/zimagi</td>\n",
       "      <td>`zimagi dbshell` does not find `psql`</td>\n",
       "      <td>Moreover, it looks for it even if PostgreSQL h...</td>\n",
       "      <td>bug</td>\n",
       "    </tr>\n",
       "  </tbody>\n",
       "</table>\n",
       "</div>"
      ],
      "text/plain": [
       "   Unnamed: 0                                                url  \\\n",
       "0           0  https://github.com/ZeroOne010101/PS2_Jaeger_Ac...   \n",
       "1           1  https://github.com/csufmse/student_information...   \n",
       "2           2   https://github.com/sphinx-doc/sphinx/issues/9076   \n",
       "3           3      https://github.com/ansible/ansible/pull/74218   \n",
       "4           4         https://github.com/zimagi/zimagi/issues/54   \n",
       "\n",
       "                                  repo  \\\n",
       "0  ZeroOne010101/PS2_Jaeger_Accountbot   \n",
       "1   csufmse/student_information_system   \n",
       "2                    sphinx-doc/sphinx   \n",
       "3                      ansible/ansible   \n",
       "4                        zimagi/zimagi   \n",
       "\n",
       "                                               title  \\\n",
       "0                     Append new column if neccesary   \n",
       "1  student.currentsemester would show all section...   \n",
       "2    Duplicate articles in TOC causes weird behavior   \n",
       "3                  fix typo in _collection_finder.py   \n",
       "4              `zimagi dbshell` does not find `psql`   \n",
       "\n",
       "                                                body label  \n",
       "0  The bot should append a new column to add a date.   bug  \n",
       "1  Added a filter for current semester\\r\\n\\r\\n@oc...   bug  \n",
       "2  My team handles documentation and tutorials fo...   bug  \n",
       "3  \\r\\n\\r\\n##### SUMMARY\\r\\n<!--- Describe the ch...   bug  \n",
       "4  Moreover, it looks for it even if PostgreSQL h...   bug  "
      ]
     },
     "execution_count": 76,
     "metadata": {},
     "output_type": "execute_result"
    }
   ],
   "source": [
    "df.head()"
   ]
  },
  {
   "cell_type": "code",
   "execution_count": 36,
   "metadata": {},
   "outputs": [],
   "source": [
    "df['body'] = [entry.lower() for entry in df['body']]\n",
    "df['title'] = [entry.lower() for entry in df['title']]\n",
    "\n",
    "df['body'].dropna(inplace=True)\n",
    "\n",
    "df['body']= [word_tokenize(entry) for entry in df['body']]\n",
    "df['title']= [word_tokenize(entry) for entry in df['title']]"
   ]
  },
  {
   "cell_type": "code",
   "execution_count": 67,
   "metadata": {},
   "outputs": [
    {
     "data": {
      "text/html": [
       "<div>\n",
       "<style scoped>\n",
       "    .dataframe tbody tr th:only-of-type {\n",
       "        vertical-align: middle;\n",
       "    }\n",
       "\n",
       "    .dataframe tbody tr th {\n",
       "        vertical-align: top;\n",
       "    }\n",
       "\n",
       "    .dataframe thead th {\n",
       "        text-align: right;\n",
       "    }\n",
       "</style>\n",
       "<table border=\"1\" class=\"dataframe\">\n",
       "  <thead>\n",
       "    <tr style=\"text-align: right;\">\n",
       "      <th></th>\n",
       "      <th>title</th>\n",
       "      <th>body</th>\n",
       "      <th>label</th>\n",
       "      <th>body_final</th>\n",
       "      <th>title_final</th>\n",
       "    </tr>\n",
       "  </thead>\n",
       "  <tbody>\n",
       "    <tr>\n",
       "      <th>0</th>\n",
       "      <td>[append, new, column, if, neccesary]</td>\n",
       "      <td>[the, bot, should, append, a, new, column, to,...</td>\n",
       "      <td>3</td>\n",
       "      <td>['bot', 'append', 'new', 'column', 'add', 'date']</td>\n",
       "      <td>['append', 'new', 'column', 'neccesary']</td>\n",
       "    </tr>\n",
       "    <tr>\n",
       "      <th>1</th>\n",
       "      <td>[student.currentsemester, would, show, all, se...</td>\n",
       "      <td>[added, a, filter, for, current, semester, @, ...</td>\n",
       "      <td>3</td>\n",
       "      <td>['add', 'filter', 'current', 'semester', 'ocea...</td>\n",
       "      <td>['would', 'show', 'section', 'student', 'one']</td>\n",
       "    </tr>\n",
       "    <tr>\n",
       "      <th>2</th>\n",
       "      <td>[duplicate, articles, in, toc, causes, weird, ...</td>\n",
       "      <td>[my, team, handles, documentation, and, tutori...</td>\n",
       "      <td>3</td>\n",
       "      <td>['team', 'handle', 'documentation', 'tutorial'...</td>\n",
       "      <td>['duplicate', 'article', 'toc', 'cause', 'weir...</td>\n",
       "    </tr>\n",
       "    <tr>\n",
       "      <th>3</th>\n",
       "      <td>[fix, typo, in, _collection_finder.py]</td>\n",
       "      <td>[#, #, #, #, #, summary, &lt;, !, --, -, describe...</td>\n",
       "      <td>3</td>\n",
       "      <td>['summary', 'describe', 'change', 'include', '...</td>\n",
       "      <td>['fix', 'typo']</td>\n",
       "    </tr>\n",
       "    <tr>\n",
       "      <th>4</th>\n",
       "      <td>[`, zimagi, dbshell, `, does, not, find, `, ps...</td>\n",
       "      <td>[moreover, ,, it, looks, for, it, even, if, po...</td>\n",
       "      <td>3</td>\n",
       "      <td>['moreover', 'look', 'even', 'postgresql', 'tu...</td>\n",
       "      <td>['zimagi', 'dbshell', 'find', 'psql']</td>\n",
       "    </tr>\n",
       "  </tbody>\n",
       "</table>\n",
       "</div>"
      ],
      "text/plain": [
       "                                               title  \\\n",
       "0               [append, new, column, if, neccesary]   \n",
       "1  [student.currentsemester, would, show, all, se...   \n",
       "2  [duplicate, articles, in, toc, causes, weird, ...   \n",
       "3             [fix, typo, in, _collection_finder.py]   \n",
       "4  [`, zimagi, dbshell, `, does, not, find, `, ps...   \n",
       "\n",
       "                                                body  label  \\\n",
       "0  [the, bot, should, append, a, new, column, to,...      3   \n",
       "1  [added, a, filter, for, current, semester, @, ...      3   \n",
       "2  [my, team, handles, documentation, and, tutori...      3   \n",
       "3  [#, #, #, #, #, summary, <, !, --, -, describe...      3   \n",
       "4  [moreover, ,, it, looks, for, it, even, if, po...      3   \n",
       "\n",
       "                                          body_final  \\\n",
       "0  ['bot', 'append', 'new', 'column', 'add', 'date']   \n",
       "1  ['add', 'filter', 'current', 'semester', 'ocea...   \n",
       "2  ['team', 'handle', 'documentation', 'tutorial'...   \n",
       "3  ['summary', 'describe', 'change', 'include', '...   \n",
       "4  ['moreover', 'look', 'even', 'postgresql', 'tu...   \n",
       "\n",
       "                                         title_final  \n",
       "0           ['append', 'new', 'column', 'neccesary']  \n",
       "1     ['would', 'show', 'section', 'student', 'one']  \n",
       "2  ['duplicate', 'article', 'toc', 'cause', 'weir...  \n",
       "3                                    ['fix', 'typo']  \n",
       "4              ['zimagi', 'dbshell', 'find', 'psql']  "
      ]
     },
     "execution_count": 67,
     "metadata": {},
     "output_type": "execute_result"
    }
   ],
   "source": [
    "df.head()"
   ]
  },
  {
   "cell_type": "code",
   "execution_count": null,
   "metadata": {},
   "outputs": [],
   "source": [
    "tag_map = defaultdict(lambda : wn.NOUN)\n",
    "tag_map['J'] = wn.ADJ\n",
    "tag_map['V'] = wn.VERB\n",
    "tag_map['R'] = wn.ADV\n",
    "\n",
    "for index,entry in enumerate(df['body']):\n",
    "    Final_words = []\n",
    "    word_Lemmatized = WordNetLemmatizer()\n",
    "    for word, tag in pos_tag(entry):\n",
    "        if word not in stopwords.words('english') and word.isalpha():\n",
    "            word_Final = word_Lemmatized.lemmatize(word,tag_map[tag[0]])\n",
    "            Final_words.append(word_Final)\n",
    "    # The final processed set of words for each iteration will be stored in 'text_final'\n",
    "    df.loc[index,'body_final'] = str(Final_words)\n",
    "\n",
    "for index,entry in enumerate(df['title']):\n",
    "    Final_words = []\n",
    "    word_Lemmatized = WordNetLemmatizer()\n",
    "    for word, tag in pos_tag(entry):\n",
    "        if word not in stopwords.words('english') and word.isalpha():\n",
    "            word_Final = word_Lemmatized.lemmatize(word,tag_map[tag[0]])\n",
    "            Final_words.append(word_Final)\n",
    "    # The final processed set of words for each iteration will be stored in 'text_final'\n",
    "    df.loc[index,'title_final'] = str(Final_words)\n"
   ]
  },
  {
   "cell_type": "code",
   "execution_count": 69,
   "metadata": {},
   "outputs": [],
   "source": [
    "df.to_csv(\"svm-final.csv\")\n"
   ]
  },
  {
   "cell_type": "code",
   "execution_count": 91,
   "metadata": {},
   "outputs": [
    {
     "data": {
      "text/html": [
       "<div>\n",
       "<style scoped>\n",
       "    .dataframe tbody tr th:only-of-type {\n",
       "        vertical-align: middle;\n",
       "    }\n",
       "\n",
       "    .dataframe tbody tr th {\n",
       "        vertical-align: top;\n",
       "    }\n",
       "\n",
       "    .dataframe thead th {\n",
       "        text-align: right;\n",
       "    }\n",
       "</style>\n",
       "<table border=\"1\" class=\"dataframe\">\n",
       "  <thead>\n",
       "    <tr style=\"text-align: right;\">\n",
       "      <th></th>\n",
       "      <th>Unnamed: 0</th>\n",
       "      <th>title</th>\n",
       "      <th>body</th>\n",
       "      <th>label</th>\n",
       "      <th>body_final</th>\n",
       "      <th>title_final</th>\n",
       "    </tr>\n",
       "  </thead>\n",
       "  <tbody>\n",
       "    <tr>\n",
       "      <th>0</th>\n",
       "      <td>0</td>\n",
       "      <td>['append', 'new', 'column', 'if', 'neccesary']</td>\n",
       "      <td>['the', 'bot', 'should', 'append', 'a', 'new',...</td>\n",
       "      <td>3</td>\n",
       "      <td>['bot', 'append', 'new', 'column', 'add', 'date']</td>\n",
       "      <td>['append', 'new', 'column', 'neccesary']</td>\n",
       "    </tr>\n",
       "    <tr>\n",
       "      <th>1</th>\n",
       "      <td>1</td>\n",
       "      <td>['student.currentsemester', 'would', 'show', '...</td>\n",
       "      <td>['added', 'a', 'filter', 'for', 'current', 'se...</td>\n",
       "      <td>3</td>\n",
       "      <td>['add', 'filter', 'current', 'semester', 'ocea...</td>\n",
       "      <td>['would', 'show', 'section', 'student', 'one']</td>\n",
       "    </tr>\n",
       "    <tr>\n",
       "      <th>2</th>\n",
       "      <td>2</td>\n",
       "      <td>['duplicate', 'articles', 'in', 'toc', 'causes...</td>\n",
       "      <td>['my', 'team', 'handles', 'documentation', 'an...</td>\n",
       "      <td>3</td>\n",
       "      <td>['team', 'handle', 'documentation', 'tutorial'...</td>\n",
       "      <td>['duplicate', 'article', 'toc', 'cause', 'weir...</td>\n",
       "    </tr>\n",
       "    <tr>\n",
       "      <th>3</th>\n",
       "      <td>3</td>\n",
       "      <td>['fix', 'typo', 'in', '_collection_finder.py']</td>\n",
       "      <td>['#', '#', '#', '#', '#', 'summary', '&lt;', '!',...</td>\n",
       "      <td>3</td>\n",
       "      <td>['summary', 'describe', 'change', 'include', '...</td>\n",
       "      <td>['fix', 'typo']</td>\n",
       "    </tr>\n",
       "    <tr>\n",
       "      <th>4</th>\n",
       "      <td>4</td>\n",
       "      <td>['`', 'zimagi', 'dbshell', '`', 'does', 'not',...</td>\n",
       "      <td>['moreover', ',', 'it', 'looks', 'for', 'it', ...</td>\n",
       "      <td>3</td>\n",
       "      <td>['moreover', 'look', 'even', 'postgresql', 'tu...</td>\n",
       "      <td>['zimagi', 'dbshell', 'find', 'psql']</td>\n",
       "    </tr>\n",
       "  </tbody>\n",
       "</table>\n",
       "</div>"
      ],
      "text/plain": [
       "   Unnamed: 0                                              title  \\\n",
       "0           0     ['append', 'new', 'column', 'if', 'neccesary']   \n",
       "1           1  ['student.currentsemester', 'would', 'show', '...   \n",
       "2           2  ['duplicate', 'articles', 'in', 'toc', 'causes...   \n",
       "3           3     ['fix', 'typo', 'in', '_collection_finder.py']   \n",
       "4           4  ['`', 'zimagi', 'dbshell', '`', 'does', 'not',...   \n",
       "\n",
       "                                                body  label  \\\n",
       "0  ['the', 'bot', 'should', 'append', 'a', 'new',...      3   \n",
       "1  ['added', 'a', 'filter', 'for', 'current', 'se...      3   \n",
       "2  ['my', 'team', 'handles', 'documentation', 'an...      3   \n",
       "3  ['#', '#', '#', '#', '#', 'summary', '<', '!',...      3   \n",
       "4  ['moreover', ',', 'it', 'looks', 'for', 'it', ...      3   \n",
       "\n",
       "                                          body_final  \\\n",
       "0  ['bot', 'append', 'new', 'column', 'add', 'date']   \n",
       "1  ['add', 'filter', 'current', 'semester', 'ocea...   \n",
       "2  ['team', 'handle', 'documentation', 'tutorial'...   \n",
       "3  ['summary', 'describe', 'change', 'include', '...   \n",
       "4  ['moreover', 'look', 'even', 'postgresql', 'tu...   \n",
       "\n",
       "                                         title_final  \n",
       "0           ['append', 'new', 'column', 'neccesary']  \n",
       "1     ['would', 'show', 'section', 'student', 'one']  \n",
       "2  ['duplicate', 'article', 'toc', 'cause', 'weir...  \n",
       "3                                    ['fix', 'typo']  \n",
       "4              ['zimagi', 'dbshell', 'find', 'psql']  "
      ]
     },
     "execution_count": 91,
     "metadata": {},
     "output_type": "execute_result"
    }
   ],
   "source": [
    "df1= pd.read_csv(\"svm-final.csv\")\n",
    "df1.head()"
   ]
  },
  {
   "cell_type": "code",
   "execution_count": 45,
   "metadata": {},
   "outputs": [
    {
     "name": "stderr",
     "output_type": "stream",
     "text": [
      "[nltk_data] Downloading package wordnet to\n",
      "[nltk_data]     C:\\Users\\palak\\AppData\\Roaming\\nltk_data...\n",
      "[nltk_data]   Package wordnet is already up-to-date!\n",
      "[nltk_data] Downloading package averaged_perceptron_tagger to\n",
      "[nltk_data]     C:\\Users\\palak\\AppData\\Roaming\\nltk_data...\n",
      "[nltk_data]   Package averaged_perceptron_tagger is already up-to-\n",
      "[nltk_data]       date!\n"
     ]
    },
    {
     "data": {
      "text/plain": [
       "True"
      ]
     },
     "execution_count": 45,
     "metadata": {},
     "output_type": "execute_result"
    }
   ],
   "source": [
    "import nltk\n",
    "nltk.download('wordnet')\n",
    "nltk.download('averaged_perceptron_tagger')"
   ]
  },
  {
   "cell_type": "code",
   "execution_count": 92,
   "metadata": {},
   "outputs": [],
   "source": [
    "X = df1['body_final'] + df1[\"title_final\"]\n",
    "y=df1['label']"
   ]
  },
  {
   "cell_type": "code",
   "execution_count": 93,
   "metadata": {},
   "outputs": [
    {
     "data": {
      "text/plain": [
       "(22075,)"
      ]
     },
     "execution_count": 93,
     "metadata": {},
     "output_type": "execute_result"
    }
   ],
   "source": [
    "X.shape"
   ]
  },
  {
   "cell_type": "code",
   "execution_count": 94,
   "metadata": {},
   "outputs": [
    {
     "data": {
      "text/plain": [
       "(22075,)"
      ]
     },
     "execution_count": 94,
     "metadata": {},
     "output_type": "execute_result"
    }
   ],
   "source": [
    "y.shape"
   ]
  },
  {
   "cell_type": "code",
   "execution_count": 95,
   "metadata": {},
   "outputs": [],
   "source": [
    "Train_X, Test_X, Train_Y, Test_Y = model_selection.train_test_split(X,y,test_size=0.2)"
   ]
  },
  {
   "cell_type": "code",
   "execution_count": 96,
   "metadata": {},
   "outputs": [],
   "source": [
    "Encoder = LabelEncoder()\n",
    "Train_Y = Encoder.fit_transform(Train_Y)\n",
    "Test_Y = Encoder.fit_transform(Test_Y)"
   ]
  },
  {
   "cell_type": "code",
   "execution_count": 97,
   "metadata": {},
   "outputs": [],
   "source": [
    "Tfidf_vect = TfidfVectorizer(max_features=10000)\n",
    "Tfidf_vect.fit(X)\n",
    "Train_X_Tfidf = Tfidf_vect.transform(Train_X)\n",
    "Test_X_Tfidf = Tfidf_vect.transform(Test_X)"
   ]
  },
  {
   "cell_type": "code",
   "execution_count": 102,
   "metadata": {},
   "outputs": [],
   "source": [
    "SVM = svm.SVC(C=1.0, kernel='linear', degree=3, gamma='auto')"
   ]
  },
  {
   "cell_type": "code",
   "execution_count": 103,
   "metadata": {},
   "outputs": [
    {
     "data": {
      "text/plain": [
       "SVC(gamma='auto', kernel='linear')"
      ]
     },
     "execution_count": 103,
     "metadata": {},
     "output_type": "execute_result"
    }
   ],
   "source": [
    "SVM.fit(Train_X_Tfidf,Train_Y)"
   ]
  },
  {
   "cell_type": "code",
   "execution_count": 104,
   "metadata": {},
   "outputs": [],
   "source": [
    "predictions_SVM = SVM.predict(Test_X_Tfidf)"
   ]
  },
  {
   "cell_type": "code",
   "execution_count": 105,
   "metadata": {},
   "outputs": [
    {
     "name": "stdout",
     "output_type": "stream",
     "text": [
      "SVM Accuracy Score  66.22876557191393\n"
     ]
    }
   ],
   "source": [
    "print(\"SVM Accuracy Score \",accuracy_score(predictions_SVM, Test_Y)*100)"
   ]
  },
  {
   "cell_type": "code",
   "execution_count": 106,
   "metadata": {},
   "outputs": [
    {
     "name": "stdout",
     "output_type": "stream",
     "text": [
      "              precision    recall  f1-score   support\n",
      "\n",
      "           0       0.60      0.83      0.70      1479\n",
      "           1       0.84      0.71      0.77       970\n",
      "           2       0.57      0.46      0.51       581\n",
      "           3       0.55      0.50      0.52       485\n",
      "           4       0.75      0.54      0.63       509\n",
      "           5       0.84      0.57      0.68       391\n",
      "\n",
      "    accuracy                           0.66      4415\n",
      "   macro avg       0.69      0.60      0.63      4415\n",
      "weighted avg       0.68      0.66      0.66      4415\n",
      "\n"
     ]
    }
   ],
   "source": [
    "from sklearn import metrics\n",
    "print(metrics.classification_report(Test_Y, predictions_SVM))\n"
   ]
  },
  {
   "cell_type": "code",
   "execution_count": null,
   "metadata": {},
   "outputs": [],
   "source": []
  }
 ],
 "metadata": {
  "kernelspec": {
   "display_name": "Python 3",
   "language": "python",
   "name": "python3"
  },
  "language_info": {
   "codemirror_mode": {
    "name": "ipython",
    "version": 3
   },
   "file_extension": ".py",
   "mimetype": "text/x-python",
   "name": "python",
   "nbconvert_exporter": "python",
   "pygments_lexer": "ipython3",
   "version": "3.6.8"
  }
 },
 "nbformat": 4,
 "nbformat_minor": 4
}
