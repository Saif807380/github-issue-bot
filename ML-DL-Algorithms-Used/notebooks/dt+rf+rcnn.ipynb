{
  "nbformat": 4,
  "nbformat_minor": 0,
  "metadata": {
    "colab": {
      "name": "ml_project.ipynb",
      "provenance": []
    },
    "kernelspec": {
      "name": "python3",
      "display_name": "Python 3"
    },
    "language_info": {
      "name": "python"
    }
  },
  "cells": [
    {
      "cell_type": "markdown",
      "metadata": {
        "id": "6Y46V__QS_Xx"
      },
      "source": [
        "###Github Issue Labelling Bot"
      ]
    },
    {
      "cell_type": "markdown",
      "metadata": {
        "id": "0SZYIM4UTJhz"
      },
      "source": [
        "####Imports"
      ]
    },
    {
      "cell_type": "code",
      "metadata": {
        "id": "2Cvse94YTx0l"
      },
      "source": [
        "import pandas as pd\n",
        "import numpy as np\n",
        "from sklearn.model_selection import train_test_split\n",
        "from sklearn.feature_extraction.text import CountVectorizer\n",
        "from sklearn.feature_extraction.text import TfidfVectorizer\n",
        "import matplotlib.pyplot as plt\n",
        "from sklearn.ensemble import RandomForestClassifier\n",
        "from sklearn.tree import DecisionTreeClassifier\n",
        "from sklearn.metrics import accuracy_score"
      ],
      "execution_count": 1,
      "outputs": []
    },
    {
      "cell_type": "code",
      "metadata": {
        "colab": {
          "base_uri": "https://localhost:8080/"
        },
        "id": "9cyUCmSiTMPc",
        "outputId": "68be9473-eccd-4b33-fd46-7d3ba94d8694"
      },
      "source": [
        "from google.colab import drive\n",
        "drive.mount('/content/drive')"
      ],
      "execution_count": null,
      "outputs": [
        {
          "output_type": "stream",
          "text": [
            "Mounted at /content/drive\n"
          ],
          "name": "stdout"
        }
      ]
    },
    {
      "cell_type": "code",
      "metadata": {
        "colab": {
          "base_uri": "https://localhost:8080/",
          "height": 204
        },
        "id": "dT6sS1jrhwbM",
        "outputId": "42e27664-21d6-4e74-e358-404e426054cc"
      },
      "source": [
        "path_to_file = 'drive/My Drive/Colab Notebooks/processed_data.csv'\n",
        "df = pd.read_csv(path_to_file)\n",
        "df.head()"
      ],
      "execution_count": 2,
      "outputs": [
        {
          "output_type": "execute_result",
          "data": {
            "text/html": [
              "<div>\n",
              "<style scoped>\n",
              "    .dataframe tbody tr th:only-of-type {\n",
              "        vertical-align: middle;\n",
              "    }\n",
              "\n",
              "    .dataframe tbody tr th {\n",
              "        vertical-align: top;\n",
              "    }\n",
              "\n",
              "    .dataframe thead th {\n",
              "        text-align: right;\n",
              "    }\n",
              "</style>\n",
              "<table border=\"1\" class=\"dataframe\">\n",
              "  <thead>\n",
              "    <tr style=\"text-align: right;\">\n",
              "      <th></th>\n",
              "      <th>issue</th>\n",
              "      <th>label</th>\n",
              "      <th>label_name</th>\n",
              "    </tr>\n",
              "  </thead>\n",
              "  <tbody>\n",
              "    <tr>\n",
              "      <th>0</th>\n",
              "      <td>append new column neccesary bot append new col...</td>\n",
              "      <td>0</td>\n",
              "      <td>bug</td>\n",
              "    </tr>\n",
              "    <tr>\n",
              "      <th>1</th>\n",
              "      <td>student currentsemester would show sections st...</td>\n",
              "      <td>0</td>\n",
              "      <td>bug</td>\n",
              "    </tr>\n",
              "    <tr>\n",
              "      <th>2</th>\n",
              "      <td>duplicate articles toc causes weird behavior t...</td>\n",
              "      <td>0</td>\n",
              "      <td>bug</td>\n",
              "    </tr>\n",
              "    <tr>\n",
              "      <th>3</th>\n",
              "      <td>fix typo collection finder py summary describe...</td>\n",
              "      <td>0</td>\n",
              "      <td>bug</td>\n",
              "    </tr>\n",
              "    <tr>\n",
              "      <th>4</th>\n",
              "      <td>zimagi dbshell find psql moreover looks even p...</td>\n",
              "      <td>0</td>\n",
              "      <td>bug</td>\n",
              "    </tr>\n",
              "  </tbody>\n",
              "</table>\n",
              "</div>"
            ],
            "text/plain": [
              "                                               issue  label label_name\n",
              "0  append new column neccesary bot append new col...      0        bug\n",
              "1  student currentsemester would show sections st...      0        bug\n",
              "2  duplicate articles toc causes weird behavior t...      0        bug\n",
              "3  fix typo collection finder py summary describe...      0        bug\n",
              "4  zimagi dbshell find psql moreover looks even p...      0        bug"
            ]
          },
          "metadata": {
            "tags": []
          },
          "execution_count": 2
        }
      ]
    },
    {
      "cell_type": "code",
      "metadata": {
        "colab": {
          "base_uri": "https://localhost:8080/"
        },
        "id": "2OsCbhvBsIsD",
        "outputId": "a485e02c-4605-40a4-8cc0-29b4a7ed9a8f"
      },
      "source": [
        "df.shape"
      ],
      "execution_count": null,
      "outputs": [
        {
          "output_type": "execute_result",
          "data": {
            "text/plain": [
              "(22075, 4)"
            ]
          },
          "metadata": {
            "tags": []
          },
          "execution_count": 90
        }
      ]
    },
    {
      "cell_type": "markdown",
      "metadata": {
        "id": "SDbHjEBghp38"
      },
      "source": [
        "####Dataset visualization"
      ]
    },
    {
      "cell_type": "code",
      "metadata": {
        "id": "4B2GYqbuiQ-t"
      },
      "source": [
        "x = ['bug','design', 'documentation','feature', 'help','question']\n",
        "\n",
        "y = list(df['label'].value_counts())"
      ],
      "execution_count": null,
      "outputs": []
    },
    {
      "cell_type": "code",
      "metadata": {
        "colab": {
          "base_uri": "https://localhost:8080/",
          "height": 301
        },
        "id": "XZ9aoyJDi2YE",
        "outputId": "230e8b61-649d-4664-ce82-b78cbbd13e9a"
      },
      "source": [
        "plt.bar(x, y, width = 0.3)\n",
        "plt.title(\"Frequency of each kind of issue\")\n",
        "plt.xlabel(\"Issue Label\", labelpad=10)\n",
        "plt.ylabel(\"Frequency\")\n",
        "plt.show()"
      ],
      "execution_count": null,
      "outputs": [
        {
          "output_type": "display_data",
          "data": {
            "image/png": "[encoded data removed]",
            "text/plain": [
              "<Figure size 432x288 with 1 Axes>"
            ]
          },
          "metadata": {
            "tags": [],
            "needs_background": "light"
          }
        }
      ]
    },
    {
      "cell_type": "code",
      "metadata": {
        "id": "Ofe1cicukmnR"
      },
      "source": [
        "vect = CountVectorizer(max_features=1000, max_df=.15)\n",
        "X = vect.fit_transform(df['issue'])\n",
        "from sklearn.decomposition import LatentDirichletAllocation\n",
        "lda = LatentDirichletAllocation(learning_method=\"batch\", max_iter=10, random_state=0)\n",
        "document_topics = lda.fit_transform(X)"
      ],
      "execution_count": null,
      "outputs": []
    },
    {
      "cell_type": "code",
      "metadata": {
        "id": "PM3Hxq5ilXsG"
      },
      "source": [
        "!pip install mglearn"
      ],
      "execution_count": null,
      "outputs": []
    },
    {
      "cell_type": "code",
      "metadata": {
        "colab": {
          "base_uri": "https://localhost:8080/"
        },
        "id": "0EW2eAFik05k",
        "outputId": "a6f6a952-cfee-4753-982c-0e4047dacea8"
      },
      "source": [
        "sorting = np.argsort(lda.components_, axis=1)[:, ::-1]\n",
        "feature_names = np.array(vect.get_feature_names())\n",
        "import mglearn\n",
        "mglearn.tools.print_topics(topics=range(6), feature_names=feature_names, sorting=sorting, topics_per_chunk=5, n_words=10)"
      ],
      "execution_count": null,
      "outputs": [
        {
          "output_type": "stream",
          "text": [
            "topic 0       topic 1       topic 2       topic 3       topic 4       \n",
            "--------      --------      --------      --------      --------      \n",
            "change        js            name          user          java          \n",
            "tests         node          silly         page          org           \n",
            "changes       error         class         info          io            \n",
            "fix           build         type          main          com           \n",
            "code          modules       value         button        netty         \n",
            "test          version       data          search        size          \n",
            "pr            config        import        submitted     base          \n",
            "added         module        false         components    util          \n",
            "update        install       true          ui            jar           \n",
            "fixes         server        error         click         core          \n",
            "\n",
            "\n",
            "topic 5       \n",
            "--------      \n",
            "data          \n",
            "log           \n",
            "kafka         \n",
            "dataset       \n",
            "debug         \n",
            "app           \n",
            "info          \n",
            "content       \n",
            "design        \n",
            "thread        \n",
            "\n",
            "\n"
          ],
          "name": "stdout"
        }
      ]
    },
    {
      "cell_type": "code",
      "metadata": {
        "colab": {
          "base_uri": "https://localhost:8080/",
          "height": 202
        },
        "id": "YMxbY4uKmNbu",
        "outputId": "adaa086d-d8ba-4151-98d3-4a3128918e4f"
      },
      "source": [
        "df['word_count'] = df['issue'].str.count(' ') + 1\n",
        "df.head()"
      ],
      "execution_count": null,
      "outputs": [
        {
          "output_type": "execute_result",
          "data": {
            "text/html": [
              "<div>\n",
              "<style scoped>\n",
              "    .dataframe tbody tr th:only-of-type {\n",
              "        vertical-align: middle;\n",
              "    }\n",
              "\n",
              "    .dataframe tbody tr th {\n",
              "        vertical-align: top;\n",
              "    }\n",
              "\n",
              "    .dataframe thead th {\n",
              "        text-align: right;\n",
              "    }\n",
              "</style>\n",
              "<table border=\"1\" class=\"dataframe\">\n",
              "  <thead>\n",
              "    <tr style=\"text-align: right;\">\n",
              "      <th></th>\n",
              "      <th>issue</th>\n",
              "      <th>label</th>\n",
              "      <th>label_name</th>\n",
              "      <th>word_count</th>\n",
              "    </tr>\n",
              "  </thead>\n",
              "  <tbody>\n",
              "    <tr>\n",
              "      <th>0</th>\n",
              "      <td>append new column neccesary bot append new col...</td>\n",
              "      <td>0</td>\n",
              "      <td>bug</td>\n",
              "      <td>10</td>\n",
              "    </tr>\n",
              "    <tr>\n",
              "      <th>1</th>\n",
              "      <td>student currentsemester would show sections st...</td>\n",
              "      <td>0</td>\n",
              "      <td>bug</td>\n",
              "      <td>13</td>\n",
              "    </tr>\n",
              "    <tr>\n",
              "      <th>2</th>\n",
              "      <td>duplicate articles toc causes weird behavior t...</td>\n",
              "      <td>0</td>\n",
              "      <td>bug</td>\n",
              "      <td>94</td>\n",
              "    </tr>\n",
              "    <tr>\n",
              "      <th>3</th>\n",
              "      <td>fix typo collection finder py summary describe...</td>\n",
              "      <td>0</td>\n",
              "      <td>bug</td>\n",
              "      <td>66</td>\n",
              "    </tr>\n",
              "    <tr>\n",
              "      <th>4</th>\n",
              "      <td>zimagi dbshell find psql moreover looks even p...</td>\n",
              "      <td>0</td>\n",
              "      <td>bug</td>\n",
              "      <td>49</td>\n",
              "    </tr>\n",
              "  </tbody>\n",
              "</table>\n",
              "</div>"
            ],
            "text/plain": [
              "                                               issue  ...  word_count\n",
              "0  append new column neccesary bot append new col...  ...          10\n",
              "1  student currentsemester would show sections st...  ...          13\n",
              "2  duplicate articles toc causes weird behavior t...  ...          94\n",
              "3  fix typo collection finder py summary describe...  ...          66\n",
              "4  zimagi dbshell find psql moreover looks even p...  ...          49\n",
              "\n",
              "[5 rows x 4 columns]"
            ]
          },
          "metadata": {
            "tags": []
          },
          "execution_count": 29
        }
      ]
    },
    {
      "cell_type": "code",
      "metadata": {
        "id": "UB0OfDCor9ee"
      },
      "source": [
        "vec = CountVectorizer(stop_words = 'english').fit(df['issue'])\n",
        "bag_of_words = vec.transform(df['issue'])\n",
        "sum_words = bag_of_words.sum(axis=0) \n",
        "words_freq = [(word, sum_words[0, idx]) for word, idx in vec.vocabulary_.items()]\n",
        "words_freq =sorted(words_freq, key = lambda x: x[1], reverse=True)\n",
        "common_words = words_freq[:20]\n",
        "df2 = pd.DataFrame(common_words, columns = ['issue words' , 'count'])"
      ],
      "execution_count": null,
      "outputs": []
    },
    {
      "cell_type": "code",
      "metadata": {
        "colab": {
          "base_uri": "https://localhost:8080/",
          "height": 309
        },
        "id": "OG6ZvrExxmtg",
        "outputId": "0ca8078e-91f8-4ac5-b460-738e67678c53"
      },
      "source": [
        "x , y = zip(*common_words)\n",
        "plt.bar(x, y)\n",
        "plt.xticks(rotation=90)\n",
        "plt.ylabel(\"Count\")\n",
        "plt.title(\"20 most common words\")\n",
        "plt.show()"
      ],
      "execution_count": null,
      "outputs": [
        {
          "output_type": "display_data",
          "data": {
            "image/png": "[encoded data removed]",
            "text/plain": [
              "<Figure size 432x288 with 1 Axes>"
            ]
          },
          "metadata": {
            "tags": [],
            "needs_background": "light"
          }
        }
      ]
    },
    {
      "cell_type": "code",
      "metadata": {
        "colab": {
          "base_uri": "https://localhost:8080/",
          "height": 364
        },
        "id": "qBcGLk7WyqFj",
        "outputId": "2948abbd-1d4e-4891-ebf6-7d507ea9111f"
      },
      "source": [
        "vec = CountVectorizer(ngram_range=(2, 2)).fit(df['issue'])\n",
        "bag_of_words = vec.transform(df['issue'])\n",
        "sum_words = bag_of_words.sum(axis=0) \n",
        "words_freq = [(word, sum_words[0, idx]) for word, idx in vec.vocabulary_.items()]\n",
        "words_freq =sorted(words_freq, key = lambda x: x[1], reverse=True)\n",
        "common_wordpairs = words_freq[:20]\n",
        "x2, y2 = zip(*common_wordpairs)\n",
        "plt.bar(x2, y2)\n",
        "plt.xticks(rotation=90)\n",
        "plt.ylabel(\"Count\")\n",
        "plt.title(\"20 most common word pairs\")\n",
        "plt.show()"
      ],
      "execution_count": null,
      "outputs": [
        {
          "output_type": "display_data",
          "data": {
            "image/png": "[encoded data removed]",
            "text/plain": [
              "<Figure size 432x288 with 1 Axes>"
            ]
          },
          "metadata": {
            "tags": [],
            "needs_background": "light"
          }
        }
      ]
    },
    {
      "cell_type": "markdown",
      "metadata": {
        "id": "mL4FJMzFWhF3"
      },
      "source": [
        "####Splitting into train and test"
      ]
    },
    {
      "cell_type": "code",
      "metadata": {
        "colab": {
          "base_uri": "https://localhost:8080/",
          "height": 204
        },
        "id": "pTXwbWMVV5h9",
        "outputId": "d95e1815-0451-40c6-84d9-9d13a24cafb4"
      },
      "source": [
        "x = df.drop(labels=['label', 'label_name'], axis=1)\n",
        "x_train, x_test, y_train, y_test = train_test_split(x, df['label'], test_size = 0.25, random_state = 53)\n",
        "x_train.head()"
      ],
      "execution_count": 8,
      "outputs": [
        {
          "output_type": "execute_result",
          "data": {
            "text/html": [
              "<div>\n",
              "<style scoped>\n",
              "    .dataframe tbody tr th:only-of-type {\n",
              "        vertical-align: middle;\n",
              "    }\n",
              "\n",
              "    .dataframe tbody tr th {\n",
              "        vertical-align: top;\n",
              "    }\n",
              "\n",
              "    .dataframe thead th {\n",
              "        text-align: right;\n",
              "    }\n",
              "</style>\n",
              "<table border=\"1\" class=\"dataframe\">\n",
              "  <thead>\n",
              "    <tr style=\"text-align: right;\">\n",
              "      <th></th>\n",
              "      <th>issue</th>\n",
              "    </tr>\n",
              "  </thead>\n",
              "  <tbody>\n",
              "    <tr>\n",
              "      <th>10072</th>\n",
              "      <td>add tab processing c nwb docs processing modul...</td>\n",
              "    </tr>\n",
              "    <tr>\n",
              "      <th>15350</th>\n",
              "      <td>android guidelines fit content new guidelines ...</td>\n",
              "    </tr>\n",
              "    <tr>\n",
              "      <th>19483</th>\n",
              "      <td>fix error loading cheat sheet content sorry wr...</td>\n",
              "    </tr>\n",
              "    <tr>\n",
              "      <th>3572</th>\n",
              "      <td>actually able lose hitting guard lose</td>\n",
              "    </tr>\n",
              "    <tr>\n",
              "      <th>10553</th>\n",
              "      <td>teleport pad updating mods version use telepor...</td>\n",
              "    </tr>\n",
              "  </tbody>\n",
              "</table>\n",
              "</div>"
            ],
            "text/plain": [
              "                                                   issue\n",
              "10072  add tab processing c nwb docs processing modul...\n",
              "15350  android guidelines fit content new guidelines ...\n",
              "19483  fix error loading cheat sheet content sorry wr...\n",
              "3572               actually able lose hitting guard lose\n",
              "10553  teleport pad updating mods version use telepor..."
            ]
          },
          "metadata": {
            "tags": []
          },
          "execution_count": 8
        }
      ]
    },
    {
      "cell_type": "code",
      "metadata": {
        "colab": {
          "base_uri": "https://localhost:8080/"
        },
        "id": "ePfWWu1RX-PV",
        "outputId": "0e71b3cb-a4e5-4f3f-bfb1-b95048f37622"
      },
      "source": [
        "y_train.head()"
      ],
      "execution_count": 9,
      "outputs": [
        {
          "output_type": "execute_result",
          "data": {
            "text/plain": [
              "10072    3\n",
              "15350    2\n",
              "19483    4\n",
              "3572     3\n",
              "10553    5\n",
              "Name: label, dtype: int64"
            ]
          },
          "metadata": {
            "tags": []
          },
          "execution_count": 9
        }
      ]
    },
    {
      "cell_type": "markdown",
      "metadata": {
        "id": "Qk3VdGxChgsC"
      },
      "source": [
        "####Word Vectors"
      ]
    },
    {
      "cell_type": "code",
      "metadata": {
        "id": "gKtEOvg5hi7n"
      },
      "source": [
        "count_vectorizer = CountVectorizer(stop_words='english')\n",
        "count_train = count_vectorizer.fit_transform(x_train['issue'])\n",
        "count_test = count_vectorizer.transform(x_test['issue'])"
      ],
      "execution_count": 11,
      "outputs": []
    },
    {
      "cell_type": "code",
      "metadata": {
        "id": "fc85HEFlibbG"
      },
      "source": [
        "tfidf_vectorizer = TfidfVectorizer(stop_words='english')\n",
        "tfidf_train = tfidf_vectorizer.fit_transform(x_train['issue']) \n",
        "tfidf_test = tfidf_vectorizer.transform(x_test['issue'])"
      ],
      "execution_count": 12,
      "outputs": []
    },
    {
      "cell_type": "markdown",
      "metadata": {
        "id": "FlWGaml7TGFX"
      },
      "source": [
        "####Random Forest"
      ]
    },
    {
      "cell_type": "code",
      "metadata": {
        "colab": {
          "base_uri": "https://localhost:8080/"
        },
        "id": "su1Qv9DukXXj",
        "outputId": "5af1738d-7cb2-4f99-e4f4-b3937d994507"
      },
      "source": [
        "rf_clf = RandomForestClassifier(n_estimators=100, random_state=53, n_jobs=-1, max_depth=25)\n",
        "rf_clf.fit(count_train, y_train)\n",
        "pred = rf_clf.predict(count_test)\n",
        "score = accuracy_score(y_test, pred)\n",
        "print(\"Accuracy for Random Forest with BoW:   %0.3f\" % score)"
      ],
      "execution_count": 13,
      "outputs": [
        {
          "output_type": "stream",
          "text": [
            "Accuracy for Random Forest with BoW:   0.508\n"
          ],
          "name": "stdout"
        }
      ]
    },
    {
      "cell_type": "code",
      "metadata": {
        "colab": {
          "base_uri": "https://localhost:8080/"
        },
        "id": "Il2gDYW8k-2W",
        "outputId": "fd48bc14-e9b2-4e76-c7ab-cbfd40bb898e"
      },
      "source": [
        "rf_clf = RandomForestClassifier(n_estimators=150, random_state=53, n_jobs=-1, max_depth=30)\n",
        "rf_clf.fit(tfidf_train, y_train)\n",
        "pred = rf_clf.predict(tfidf_test)\n",
        "score = accuracy_score(y_test, pred)\n",
        "print(\"Accuracy for Random Forest with TF-IDF:   %0.3f\" % score)"
      ],
      "execution_count": 14,
      "outputs": [
        {
          "output_type": "stream",
          "text": [
            "Accuracy for Random Forest with TF-IDF:   0.520\n"
          ],
          "name": "stdout"
        }
      ]
    },
    {
      "cell_type": "markdown",
      "metadata": {
        "id": "ZMwNMESSoosK"
      },
      "source": [
        "####Decision Tree"
      ]
    },
    {
      "cell_type": "code",
      "metadata": {
        "colab": {
          "base_uri": "https://localhost:8080/"
        },
        "id": "DlzNKaPfpIja",
        "outputId": "b4c565e1-f5f4-4b80-c961-74c1f80bf148"
      },
      "source": [
        "dt_clf = DecisionTreeClassifier(max_depth=25)\n",
        "dt_clf.fit(count_train, y_train)\n",
        "pred = dt_clf.predict(count_test)\n",
        "score = accuracy_score(y_test, pred)\n",
        "print(\"Accuracy for Decision Tree with BoW:   %0.3f\" % score)"
      ],
      "execution_count": 15,
      "outputs": [
        {
          "output_type": "stream",
          "text": [
            "Accuracy for Decision Tree with BoW:   0.591\n"
          ],
          "name": "stdout"
        }
      ]
    },
    {
      "cell_type": "code",
      "metadata": {
        "colab": {
          "base_uri": "https://localhost:8080/"
        },
        "id": "YXaQPHhmpHwV",
        "outputId": "9b4ffe57-71cb-43d6-9633-2b39669f567a"
      },
      "source": [
        "dt_clf = DecisionTreeClassifier(splitter='random', max_depth=30)\n",
        "dt_clf.fit(tfidf_train, y_train)\n",
        "pred = dt_clf.predict(tfidf_test)\n",
        "score = accuracy_score(y_test, pred)\n",
        "print(\"Accuracy for Decision Tree with TF-IDF:   %0.3f\" % score)"
      ],
      "execution_count": 16,
      "outputs": [
        {
          "output_type": "stream",
          "text": [
            "Accuracy for Decision Tree with TF-IDF:   0.575\n"
          ],
          "name": "stdout"
        }
      ]
    },
    {
      "cell_type": "markdown",
      "metadata": {
        "id": "iR9smRPEcedn"
      },
      "source": [
        "####Using RCNN"
      ]
    },
    {
      "cell_type": "code",
      "metadata": {
        "id": "RtrJ6WnYFcAB"
      },
      "source": [
        "path_to_file = 'drive/My Drive/Colab Notebooks/glove.6B.50d.txt'"
      ],
      "execution_count": null,
      "outputs": []
    },
    {
      "cell_type": "code",
      "metadata": {
        "colab": {
          "base_uri": "https://localhost:8080/"
        },
        "id": "d6OeJ7PXDuES",
        "outputId": "45b5e818-16b3-4a76-8aef-2863a2a0bed2"
      },
      "source": [
        "from keras.preprocessing import sequence\n",
        "from keras.models import Sequential\n",
        "from keras.layers import Dense, Dropout, Activation\n",
        "from keras.layers import Embedding\n",
        "from keras.layers import LSTM\n",
        "from keras.layers import Conv1D, MaxPooling1D\n",
        "import numpy as np\n",
        "import pandas as pd\n",
        "from sklearn.model_selection import train_test_split\n",
        "from sklearn import metrics\n",
        "from keras.preprocessing.text import Tokenizer\n",
        "from keras.preprocessing.sequence import pad_sequences\n",
        "\n",
        "def loadData_Tokenizer(X_train, X_test,MAX_NB_WORDS=75000,MAX_SEQUENCE_LENGTH=500):\n",
        "    np.random.seed(7)\n",
        "    text = np.concatenate((X_train, X_test), axis=0)\n",
        "    text = np.array(text)\n",
        "    tokenizer = Tokenizer(num_words=MAX_NB_WORDS)\n",
        "    tokenizer.fit_on_texts(text)\n",
        "    sequences = tokenizer.texts_to_sequences(text)\n",
        "    word_index = tokenizer.word_index\n",
        "    text = pad_sequences(sequences, maxlen=MAX_SEQUENCE_LENGTH)\n",
        "    print('Found %s unique tokens.' % len(word_index))\n",
        "    indices = np.arange(text.shape[0])\n",
        "    # np.random.shuffle(indices)\n",
        "    text = text[indices]\n",
        "    print(text.shape)\n",
        "    X_train = text[0:len(X_train), ]\n",
        "    X_test = text[len(X_train):, ]\n",
        "    embeddings_index = {}\n",
        "    f = open(path_to_file, encoding=\"utf8\")\n",
        "    for line in f:\n",
        "        values = line.split()\n",
        "        word = values[0]\n",
        "        try:\n",
        "            coefs = np.asarray(values[1:], dtype='float32')\n",
        "        except:\n",
        "            pass\n",
        "        embeddings_index[word] = coefs\n",
        "    f.close()\n",
        "    print('Total %s word vectors.' % len(embeddings_index))\n",
        "    return (X_train, X_test, word_index,embeddings_index)\n",
        "\n",
        "def Build_Model_RCNN_Text(word_index, embeddings_index, nclasses, MAX_SEQUENCE_LENGTH=500, EMBEDDING_DIM=50):\n",
        "\n",
        "    kernel_size = 2\n",
        "    filters = 256\n",
        "    pool_size = 2\n",
        "    gru_node = 256\n",
        "\n",
        "    embedding_matrix = np.random.random((len(word_index) + 1, EMBEDDING_DIM))\n",
        "    for word, i in word_index.items():\n",
        "        embedding_vector = embeddings_index.get(word)\n",
        "        if embedding_vector is not None:\n",
        "            # words not found in embedding index will be all-zeros.\n",
        "            if len(embedding_matrix[i]) !=len(embedding_vector):\n",
        "                print(\"could not broadcast input array from shape\",str(len(embedding_matrix[i])),\n",
        "                                 \"into shape\",str(len(embedding_vector)),\" Please make sure your\"\n",
        "                                 \" EMBEDDING_DIM is equal to embedding_vector file ,GloVe,\")\n",
        "                exit(1)\n",
        "\n",
        "            embedding_matrix[i] = embedding_vector\n",
        "\n",
        "\n",
        "\n",
        "    model = Sequential()\n",
        "    model.add(Embedding(len(word_index) + 1,\n",
        "                                EMBEDDING_DIM,\n",
        "                                weights=[embedding_matrix],\n",
        "                                input_length=MAX_SEQUENCE_LENGTH,\n",
        "                                trainable=True))\n",
        "    model.add(Dropout(0.25))\n",
        "    model.add(Conv1D(filters, kernel_size, activation='relu'))\n",
        "    model.add(MaxPooling1D(pool_size=pool_size))\n",
        "    model.add(Conv1D(filters, kernel_size, activation='relu'))\n",
        "    model.add(MaxPooling1D(pool_size=pool_size))\n",
        "    model.add(Conv1D(filters, kernel_size, activation='relu'))\n",
        "    model.add(MaxPooling1D(pool_size=pool_size))\n",
        "    model.add(Conv1D(filters, kernel_size, activation='relu'))\n",
        "    model.add(MaxPooling1D(pool_size=pool_size))\n",
        "    model.add(LSTM(gru_node, return_sequences=True, recurrent_dropout=0.2))\n",
        "    model.add(LSTM(gru_node, return_sequences=True, recurrent_dropout=0.2))\n",
        "    model.add(LSTM(gru_node, return_sequences=True, recurrent_dropout=0.2))\n",
        "    model.add(LSTM(gru_node, recurrent_dropout=0.2))\n",
        "    model.add(Dense(1024,activation='relu'))\n",
        "    model.add(Dense(nclasses))\n",
        "    model.add(Activation('softmax'))\n",
        "\n",
        "    model.compile(loss='sparse_categorical_crossentropy',\n",
        "                  optimizer='adam',\n",
        "                  metrics=['accuracy'])\n",
        "\n",
        "    return model\n",
        "\n",
        "df = pd.read_csv(\"drive/My Drive/Colab Notebooks/processed_data.csv\")\n",
        "x_df = df.drop(labels=[\"label_name\", \"label\"], axis=1)\n",
        "x_train, x_test, y_train, y_test = train_test_split(x_df, df['label'], test_size = 0.2, random_state = 53)\n",
        "\n",
        "X_train_Glove,X_test_Glove, word_index,embeddings_index = loadData_Tokenizer(x_train['issue'], x_test['issue'])\n",
        "\n",
        "model_RCNN = Build_Model_RCNN_Text(word_index,embeddings_index, 20)\n",
        "model_RCNN.summary()\n",
        "model_RCNN.fit(X_train_Glove, y_train,\n",
        "                              validation_data=(X_test_Glove, y_test),\n",
        "                              epochs=15,\n",
        "                              batch_size=128,\n",
        "                              verbose=2)\n",
        "predicted = model_RCNN.predict(X_test_Glove)\n",
        "predicted = np.argmax(predicted, axis=1)\n",
        "print(metrics.classification_report(y_test, predicted))"
      ],
      "execution_count": null,
      "outputs": [
        {
          "output_type": "stream",
          "text": [
            "Found 53409 unique tokens.\n",
            "(19525, 500)\n",
            "Total 400001 word vectors.\n",
            "WARNING:tensorflow:Layer lstm_3 will not use cuDNN kernel since it doesn't meet the cuDNN kernel criteria. It will use generic GPU kernel as fallback when running on GPU\n",
            "WARNING:tensorflow:Layer lstm_4 will not use cuDNN kernel since it doesn't meet the cuDNN kernel criteria. It will use generic GPU kernel as fallback when running on GPU\n",
            "WARNING:tensorflow:Layer lstm_5 will not use cuDNN kernel since it doesn't meet the cuDNN kernel criteria. It will use generic GPU kernel as fallback when running on GPU\n",
            "WARNING:tensorflow:Layer lstm_6 will not use cuDNN kernel since it doesn't meet the cuDNN kernel criteria. It will use generic GPU kernel as fallback when running on GPU\n",
            "Model: \"sequential_1\"\n",
            "_________________________________________________________________\n",
            "Layer (type)                 Output Shape              Param #   \n",
            "=================================================================\n",
            "embedding_1 (Embedding)      (None, 500, 50)           2670500   \n",
            "_________________________________________________________________\n",
            "dropout_1 (Dropout)          (None, 500, 50)           0         \n",
            "_________________________________________________________________\n",
            "conv1d_3 (Conv1D)            (None, 499, 256)          25856     \n",
            "_________________________________________________________________\n",
            "max_pooling1d_3 (MaxPooling1 (None, 249, 256)          0         \n",
            "_________________________________________________________________\n",
            "conv1d_4 (Conv1D)            (None, 248, 256)          131328    \n",
            "_________________________________________________________________\n",
            "max_pooling1d_4 (MaxPooling1 (None, 124, 256)          0         \n",
            "_________________________________________________________________\n",
            "conv1d_5 (Conv1D)            (None, 123, 256)          131328    \n",
            "_________________________________________________________________\n",
            "max_pooling1d_5 (MaxPooling1 (None, 61, 256)           0         \n",
            "_________________________________________________________________\n",
            "conv1d_6 (Conv1D)            (None, 60, 256)           131328    \n",
            "_________________________________________________________________\n",
            "max_pooling1d_6 (MaxPooling1 (None, 30, 256)           0         \n",
            "_________________________________________________________________\n",
            "lstm_3 (LSTM)                (None, 30, 256)           525312    \n",
            "_________________________________________________________________\n",
            "lstm_4 (LSTM)                (None, 30, 256)           525312    \n",
            "_________________________________________________________________\n",
            "lstm_5 (LSTM)                (None, 30, 256)           525312    \n",
            "_________________________________________________________________\n",
            "lstm_6 (LSTM)                (None, 256)               525312    \n",
            "_________________________________________________________________\n",
            "dense_2 (Dense)              (None, 1024)              263168    \n",
            "_________________________________________________________________\n",
            "dense_3 (Dense)              (None, 20)                20500     \n",
            "_________________________________________________________________\n",
            "activation_1 (Activation)    (None, 20)                0         \n",
            "=================================================================\n",
            "Total params: 5,475,256\n",
            "Trainable params: 5,475,256\n",
            "Non-trainable params: 0\n",
            "_________________________________________________________________\n",
            "Epoch 1/15\n",
            "123/123 - 89s - loss: 1.7305 - accuracy: 0.3138 - val_loss: 1.7385 - val_accuracy: 0.3301\n",
            "Epoch 2/15\n",
            "123/123 - 78s - loss: 1.6928 - accuracy: 0.3313 - val_loss: 1.7001 - val_accuracy: 0.3301\n",
            "Epoch 3/15\n",
            "123/123 - 77s - loss: 1.6635 - accuracy: 0.3351 - val_loss: 1.5906 - val_accuracy: 0.3424\n",
            "Epoch 4/15\n",
            "123/123 - 78s - loss: 1.5271 - accuracy: 0.3563 - val_loss: 1.5160 - val_accuracy: 0.3677\n",
            "Epoch 5/15\n",
            "123/123 - 78s - loss: 1.4603 - accuracy: 0.3703 - val_loss: 1.4500 - val_accuracy: 0.3721\n",
            "Epoch 6/15\n",
            "123/123 - 78s - loss: 1.3732 - accuracy: 0.4234 - val_loss: 1.3645 - val_accuracy: 0.4730\n",
            "Epoch 7/15\n",
            "123/123 - 78s - loss: 1.2502 - accuracy: 0.5149 - val_loss: 1.2969 - val_accuracy: 0.4983\n",
            "Epoch 8/15\n",
            "123/123 - 78s - loss: 1.1501 - accuracy: 0.5545 - val_loss: 1.3780 - val_accuracy: 0.4694\n",
            "Epoch 9/15\n",
            "123/123 - 77s - loss: 1.0875 - accuracy: 0.5727 - val_loss: 1.2946 - val_accuracy: 0.5181\n",
            "Epoch 10/15\n",
            "123/123 - 77s - loss: 1.0173 - accuracy: 0.5946 - val_loss: 1.2695 - val_accuracy: 0.5408\n",
            "Epoch 11/15\n",
            "123/123 - 77s - loss: 0.9644 - accuracy: 0.6232 - val_loss: 1.2460 - val_accuracy: 0.5503\n",
            "Epoch 12/15\n",
            "123/123 - 77s - loss: 0.9296 - accuracy: 0.6418 - val_loss: 1.2369 - val_accuracy: 0.5744\n",
            "Epoch 13/15\n",
            "123/123 - 77s - loss: 0.8955 - accuracy: 0.6563 - val_loss: 1.2608 - val_accuracy: 0.5657\n",
            "Epoch 14/15\n",
            "123/123 - 77s - loss: 0.8365 - accuracy: 0.6809 - val_loss: 1.2586 - val_accuracy: 0.5634\n",
            "Epoch 15/15\n",
            "123/123 - 77s - loss: 0.7907 - accuracy: 0.7018 - val_loss: 1.2813 - val_accuracy: 0.5744\n",
            "              precision    recall  f1-score   support\n",
            "\n",
            "           0       0.24      0.12      0.16       439\n",
            "           1       0.79      0.35      0.49       459\n",
            "           2       0.79      0.70      0.74       857\n",
            "           3       0.57      0.73      0.64      1289\n",
            "           4       0.77      0.65      0.71       321\n",
            "           5       0.35      0.52      0.42       540\n",
            "\n",
            "    accuracy                           0.57      3905\n",
            "   macro avg       0.59      0.51      0.53      3905\n",
            "weighted avg       0.59      0.57      0.57      3905\n",
            "\n"
          ],
          "name": "stdout"
        }
      ]
    },
    {
      "cell_type": "code",
      "metadata": {
        "colab": {
          "base_uri": "https://localhost:8080/"
        },
        "id": "j2KkTPQf5LZ5",
        "outputId": "eca2d6a8-1629-4d1a-e2dd-81328e87cc04"
      },
      "source": [
        "model_RCNN.save('drive/My Drive/Colab Notebooks/rcnn')"
      ],
      "execution_count": null,
      "outputs": [
        {
          "output_type": "stream",
          "text": [
            "INFO:tensorflow:Assets written to: drive/My Drive/Colab Notebooks/rcnn/assets\n"
          ],
          "name": "stdout"
        }
      ]
    },
    {
      "cell_type": "code",
      "metadata": {
        "id": "BA-UK09tBbKM"
      },
      "source": [
        ""
      ],
      "execution_count": null,
      "outputs": []
    }
  ]
}