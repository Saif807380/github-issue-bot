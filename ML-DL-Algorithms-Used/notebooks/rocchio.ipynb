{
 "cells": [
  {
   "cell_type": "markdown",
   "id": "c5b4d3db-c7bd-40ea-ac77-e55532221881",
   "metadata": {},
   "source": [
    "# Rocchio classifier"
   ]
  },
  {
   "cell_type": "code",
   "execution_count": 18,
   "id": "9c47881b-a4e1-4db8-a644-280aac70725c",
   "metadata": {},
   "outputs": [],
   "source": [
    "import numpy as np\n",
    "import pandas as pd\n",
    "from sklearn.neighbors import NearestCentroid\n",
    "from sklearn.pipeline import Pipeline\n",
    "from sklearn import metrics\n",
    "from sklearn.feature_extraction.text import CountVectorizer, TfidfTransformer, TfidfVectorizer\n",
    "from sklearn.model_selection import train_test_split, GridSearchCV\n",
    "import pickle"
   ]
  },
  {
   "cell_type": "code",
   "execution_count": 2,
   "id": "ec81ab6b-c134-4b00-8caf-d78ff791cc8b",
   "metadata": {},
   "outputs": [],
   "source": [
    "df = pd.read_csv(\"../dataset/saif_processed.csv\")"
   ]
  },
  {
   "cell_type": "code",
   "execution_count": 3,
   "id": "4f5dede4-574d-49ac-8e97-9ce4572b71b5",
   "metadata": {},
   "outputs": [
    {
     "data": {
      "text/html": [
       "<div>\n",
       "<style scoped>\n",
       "    .dataframe tbody tr th:only-of-type {\n",
       "        vertical-align: middle;\n",
       "    }\n",
       "\n",
       "    .dataframe tbody tr th {\n",
       "        vertical-align: top;\n",
       "    }\n",
       "\n",
       "    .dataframe thead th {\n",
       "        text-align: right;\n",
       "    }\n",
       "</style>\n",
       "<table border=\"1\" class=\"dataframe\">\n",
       "  <thead>\n",
       "    <tr style=\"text-align: right;\">\n",
       "      <th></th>\n",
       "      <th>issue</th>\n",
       "      <th>label</th>\n",
       "      <th>label_name</th>\n",
       "    </tr>\n",
       "  </thead>\n",
       "  <tbody>\n",
       "    <tr>\n",
       "      <th>0</th>\n",
       "      <td>append new column neccesary bot append new col...</td>\n",
       "      <td>0</td>\n",
       "      <td>bug</td>\n",
       "    </tr>\n",
       "    <tr>\n",
       "      <th>1</th>\n",
       "      <td>student currentsemester would show sections st...</td>\n",
       "      <td>0</td>\n",
       "      <td>bug</td>\n",
       "    </tr>\n",
       "    <tr>\n",
       "      <th>2</th>\n",
       "      <td>duplicate articles toc causes weird behavior t...</td>\n",
       "      <td>0</td>\n",
       "      <td>bug</td>\n",
       "    </tr>\n",
       "    <tr>\n",
       "      <th>3</th>\n",
       "      <td>fix typo collection finder py summary describe...</td>\n",
       "      <td>0</td>\n",
       "      <td>bug</td>\n",
       "    </tr>\n",
       "    <tr>\n",
       "      <th>4</th>\n",
       "      <td>zimagi dbshell find psql moreover looks even p...</td>\n",
       "      <td>0</td>\n",
       "      <td>bug</td>\n",
       "    </tr>\n",
       "  </tbody>\n",
       "</table>\n",
       "</div>"
      ],
      "text/plain": [
       "                                               issue  label label_name\n",
       "0  append new column neccesary bot append new col...      0        bug\n",
       "1  student currentsemester would show sections st...      0        bug\n",
       "2  duplicate articles toc causes weird behavior t...      0        bug\n",
       "3  fix typo collection finder py summary describe...      0        bug\n",
       "4  zimagi dbshell find psql moreover looks even p...      0        bug"
      ]
     },
     "execution_count": 3,
     "metadata": {},
     "output_type": "execute_result"
    }
   ],
   "source": [
    "df.head()"
   ]
  },
  {
   "cell_type": "code",
   "execution_count": 4,
   "id": "eaf17852-6aa7-48de-9ef1-5876709b88d8",
   "metadata": {},
   "outputs": [],
   "source": [
    "X = df[\"issue\"].apply(lambda x: np.str_(x))\n",
    "y = df[\"label\"]"
   ]
  },
  {
   "cell_type": "code",
   "execution_count": 5,
   "id": "96a8537e-c3c4-4b86-b1d4-cdd44ac2247a",
   "metadata": {},
   "outputs": [],
   "source": [
    "X_train, X_test, y_train, y_test = train_test_split(X, y, test_size=0.20)"
   ]
  },
  {
   "cell_type": "code",
   "execution_count": 6,
   "id": "daa3b72d-e9e0-4a6e-88f4-8de59c5fcf8e",
   "metadata": {},
   "outputs": [],
   "source": [
    "text_clf = Pipeline([('tfidf', TfidfVectorizer()),\n",
    "                     ('clf', NearestCentroid()),\n",
    "                     ])"
   ]
  },
  {
   "cell_type": "code",
   "execution_count": 7,
   "id": "6c4f825f-7d69-432d-93dd-7c86d1cfe255",
   "metadata": {},
   "outputs": [
    {
     "data": {
      "text/plain": [
       "Pipeline(steps=[('tfidf', TfidfVectorizer()), ('clf', NearestCentroid())])"
      ]
     },
     "execution_count": 7,
     "metadata": {},
     "output_type": "execute_result"
    }
   ],
   "source": [
    "text_clf.fit(X_train, y_train)"
   ]
  },
  {
   "cell_type": "code",
   "execution_count": 8,
   "id": "2f531481-f150-48f3-bd89-611681a80254",
   "metadata": {},
   "outputs": [],
   "source": [
    "predicted = text_clf.predict(X_test)"
   ]
  },
  {
   "cell_type": "code",
   "execution_count": 9,
   "id": "263872d6-79bd-4898-a3dc-79456d6dda84",
   "metadata": {},
   "outputs": [
    {
     "name": "stdout",
     "output_type": "stream",
     "text": [
      "              precision    recall  f1-score   support\n",
      "\n",
      "           0       0.51      0.58      0.54       441\n",
      "           1       0.59      0.57      0.58       458\n",
      "           2       0.79      0.62      0.69       873\n",
      "           3       0.63      0.64      0.63      1289\n",
      "           4       0.81      0.50      0.62       353\n",
      "           5       0.42      0.64      0.50       491\n",
      "\n",
      "    accuracy                           0.61      3905\n",
      "   macro avg       0.62      0.59      0.60      3905\n",
      "weighted avg       0.64      0.61      0.61      3905\n",
      "\n"
     ]
    }
   ],
   "source": [
    "print(metrics.classification_report(y_test, predicted))"
   ]
  },
  {
   "cell_type": "markdown",
   "id": "4ef44eb8-7a12-4afb-95de-56b3427ffcfe",
   "metadata": {},
   "source": [
    "# Applying Grid Search to find best model"
   ]
  },
  {
   "cell_type": "code",
   "execution_count": 11,
   "id": "7d4b8a94-6b33-4749-a673-cb8affa42f8d",
   "metadata": {},
   "outputs": [],
   "source": [
    "parameters = {\n",
    "    'tfidf__ngram_range': [(1, 1), (1, 2)],\n",
    "    'tfidf__max_features': [5000, 10000, None]\n",
    "}"
   ]
  },
  {
   "cell_type": "code",
   "execution_count": 12,
   "id": "2234c74f-56b2-429a-bc48-132f3232e369",
   "metadata": {},
   "outputs": [],
   "source": [
    "grid = GridSearchCV(text_clf, parameters, verbose=2)"
   ]
  },
  {
   "cell_type": "code",
   "execution_count": 13,
   "id": "f7595cc8-c7e1-41de-8968-6c3e3972affd",
   "metadata": {},
   "outputs": [
    {
     "name": "stdout",
     "output_type": "stream",
     "text": [
      "Fitting 5 folds for each of 6 candidates, totalling 30 fits\n",
      "[CV] END tfidf__max_features=5000, tfidf__ngram_range=(1, 1); total time=   0.9s\n",
      "[CV] END tfidf__max_features=5000, tfidf__ngram_range=(1, 1); total time=   0.7s\n",
      "[CV] END tfidf__max_features=5000, tfidf__ngram_range=(1, 1); total time=   0.7s\n",
      "[CV] END tfidf__max_features=5000, tfidf__ngram_range=(1, 1); total time=   0.7s\n",
      "[CV] END tfidf__max_features=5000, tfidf__ngram_range=(1, 1); total time=   0.7s\n",
      "[CV] END tfidf__max_features=5000, tfidf__ngram_range=(1, 2); total time=   2.6s\n",
      "[CV] END tfidf__max_features=5000, tfidf__ngram_range=(1, 2); total time=   2.5s\n",
      "[CV] END tfidf__max_features=5000, tfidf__ngram_range=(1, 2); total time=   2.5s\n",
      "[CV] END tfidf__max_features=5000, tfidf__ngram_range=(1, 2); total time=   2.5s\n",
      "[CV] END tfidf__max_features=5000, tfidf__ngram_range=(1, 2); total time=   2.5s\n",
      "[CV] END tfidf__max_features=10000, tfidf__ngram_range=(1, 1); total time=   0.7s\n",
      "[CV] END tfidf__max_features=10000, tfidf__ngram_range=(1, 1); total time=   0.7s\n",
      "[CV] END tfidf__max_features=10000, tfidf__ngram_range=(1, 1); total time=   0.7s\n",
      "[CV] END tfidf__max_features=10000, tfidf__ngram_range=(1, 1); total time=   0.7s\n",
      "[CV] END tfidf__max_features=10000, tfidf__ngram_range=(1, 1); total time=   0.7s\n",
      "[CV] END tfidf__max_features=10000, tfidf__ngram_range=(1, 2); total time=   2.6s\n",
      "[CV] END tfidf__max_features=10000, tfidf__ngram_range=(1, 2); total time=   2.5s\n",
      "[CV] END tfidf__max_features=10000, tfidf__ngram_range=(1, 2); total time=   2.5s\n",
      "[CV] END tfidf__max_features=10000, tfidf__ngram_range=(1, 2); total time=   2.5s\n",
      "[CV] END tfidf__max_features=10000, tfidf__ngram_range=(1, 2); total time=   2.7s\n",
      "[CV] END tfidf__max_features=None, tfidf__ngram_range=(1, 1); total time=   0.7s\n",
      "[CV] END tfidf__max_features=None, tfidf__ngram_range=(1, 1); total time=   0.7s\n",
      "[CV] END tfidf__max_features=None, tfidf__ngram_range=(1, 1); total time=   0.7s\n",
      "[CV] END tfidf__max_features=None, tfidf__ngram_range=(1, 1); total time=   0.7s\n",
      "[CV] END tfidf__max_features=None, tfidf__ngram_range=(1, 1); total time=   0.8s\n",
      "[CV] END tfidf__max_features=None, tfidf__ngram_range=(1, 2); total time=   2.7s\n",
      "[CV] END tfidf__max_features=None, tfidf__ngram_range=(1, 2); total time=   2.6s\n",
      "[CV] END tfidf__max_features=None, tfidf__ngram_range=(1, 2); total time=   2.5s\n",
      "[CV] END tfidf__max_features=None, tfidf__ngram_range=(1, 2); total time=   2.5s\n",
      "[CV] END tfidf__max_features=None, tfidf__ngram_range=(1, 2); total time=   2.5s\n"
     ]
    },
    {
     "data": {
      "text/plain": [
       "GridSearchCV(estimator=Pipeline(steps=[('tfidf', TfidfVectorizer()),\n",
       "                                       ('clf', NearestCentroid())]),\n",
       "             param_grid={'tfidf__max_features': [5000, 10000, None],\n",
       "                         'tfidf__ngram_range': [(1, 1), (1, 2)]},\n",
       "             verbose=2)"
      ]
     },
     "execution_count": 13,
     "metadata": {},
     "output_type": "execute_result"
    }
   ],
   "source": [
    "grid.fit(X_train, y_train)"
   ]
  },
  {
   "cell_type": "code",
   "execution_count": 14,
   "id": "21eeb3f2-fc35-47fa-8cc4-3d1300b09142",
   "metadata": {},
   "outputs": [],
   "source": [
    "predicted = grid.predict(X_test)"
   ]
  },
  {
   "cell_type": "code",
   "execution_count": 15,
   "id": "d4a9116b-2da8-4eb2-9409-ad4773f4ac81",
   "metadata": {},
   "outputs": [
    {
     "name": "stdout",
     "output_type": "stream",
     "text": [
      "              precision    recall  f1-score   support\n",
      "\n",
      "           0       0.53      0.56      0.55       441\n",
      "           1       0.59      0.61      0.60       458\n",
      "           2       0.80      0.66      0.72       873\n",
      "           3       0.66      0.65      0.65      1289\n",
      "           4       0.83      0.51      0.63       353\n",
      "           5       0.42      0.64      0.51       491\n",
      "\n",
      "    accuracy                           0.62      3905\n",
      "   macro avg       0.64      0.61      0.61      3905\n",
      "weighted avg       0.65      0.62      0.63      3905\n",
      "\n"
     ]
    }
   ],
   "source": [
    "print(metrics.classification_report(y_test, predicted))"
   ]
  },
  {
   "cell_type": "code",
   "execution_count": 16,
   "id": "e14de2ef-86b0-4f5a-a3d3-28bb69454a89",
   "metadata": {},
   "outputs": [
    {
     "data": {
      "text/html": [
       "<div>\n",
       "<style scoped>\n",
       "    .dataframe tbody tr th:only-of-type {\n",
       "        vertical-align: middle;\n",
       "    }\n",
       "\n",
       "    .dataframe tbody tr th {\n",
       "        vertical-align: top;\n",
       "    }\n",
       "\n",
       "    .dataframe thead th {\n",
       "        text-align: right;\n",
       "    }\n",
       "</style>\n",
       "<table border=\"1\" class=\"dataframe\">\n",
       "  <thead>\n",
       "    <tr style=\"text-align: right;\">\n",
       "      <th></th>\n",
       "      <th>mean_fit_time</th>\n",
       "      <th>std_fit_time</th>\n",
       "      <th>mean_score_time</th>\n",
       "      <th>std_score_time</th>\n",
       "      <th>param_tfidf__max_features</th>\n",
       "      <th>param_tfidf__ngram_range</th>\n",
       "      <th>params</th>\n",
       "      <th>split0_test_score</th>\n",
       "      <th>split1_test_score</th>\n",
       "      <th>split2_test_score</th>\n",
       "      <th>split3_test_score</th>\n",
       "      <th>split4_test_score</th>\n",
       "      <th>mean_test_score</th>\n",
       "      <th>std_test_score</th>\n",
       "      <th>rank_test_score</th>\n",
       "    </tr>\n",
       "  </thead>\n",
       "  <tbody>\n",
       "    <tr>\n",
       "      <th>0</th>\n",
       "      <td>0.609010</td>\n",
       "      <td>0.066365</td>\n",
       "      <td>0.126326</td>\n",
       "      <td>0.010793</td>\n",
       "      <td>5000</td>\n",
       "      <td>(1, 1)</td>\n",
       "      <td>{'tfidf__max_features': 5000, 'tfidf__ngram_ra...</td>\n",
       "      <td>0.605634</td>\n",
       "      <td>0.597951</td>\n",
       "      <td>0.613956</td>\n",
       "      <td>0.588988</td>\n",
       "      <td>0.599872</td>\n",
       "      <td>0.601280</td>\n",
       "      <td>0.008292</td>\n",
       "      <td>5</td>\n",
       "    </tr>\n",
       "    <tr>\n",
       "      <th>1</th>\n",
       "      <td>2.268004</td>\n",
       "      <td>0.033509</td>\n",
       "      <td>0.225722</td>\n",
       "      <td>0.015769</td>\n",
       "      <td>5000</td>\n",
       "      <td>(1, 2)</td>\n",
       "      <td>{'tfidf__max_features': 5000, 'tfidf__ngram_ra...</td>\n",
       "      <td>0.603713</td>\n",
       "      <td>0.599232</td>\n",
       "      <td>0.612676</td>\n",
       "      <td>0.589949</td>\n",
       "      <td>0.610435</td>\n",
       "      <td>0.603201</td>\n",
       "      <td>0.008170</td>\n",
       "      <td>3</td>\n",
       "    </tr>\n",
       "    <tr>\n",
       "      <th>2</th>\n",
       "      <td>0.559847</td>\n",
       "      <td>0.011070</td>\n",
       "      <td>0.127364</td>\n",
       "      <td>0.009170</td>\n",
       "      <td>10000</td>\n",
       "      <td>(1, 1)</td>\n",
       "      <td>{'tfidf__max_features': 10000, 'tfidf__ngram_r...</td>\n",
       "      <td>0.606274</td>\n",
       "      <td>0.596351</td>\n",
       "      <td>0.617798</td>\n",
       "      <td>0.587388</td>\n",
       "      <td>0.606914</td>\n",
       "      <td>0.602945</td>\n",
       "      <td>0.010324</td>\n",
       "      <td>4</td>\n",
       "    </tr>\n",
       "    <tr>\n",
       "      <th>3</th>\n",
       "      <td>2.301815</td>\n",
       "      <td>0.069832</td>\n",
       "      <td>0.236847</td>\n",
       "      <td>0.017014</td>\n",
       "      <td>10000</td>\n",
       "      <td>(1, 2)</td>\n",
       "      <td>{'tfidf__max_features': 10000, 'tfidf__ngram_r...</td>\n",
       "      <td>0.612996</td>\n",
       "      <td>0.608515</td>\n",
       "      <td>0.625160</td>\n",
       "      <td>0.593470</td>\n",
       "      <td>0.612996</td>\n",
       "      <td>0.610627</td>\n",
       "      <td>0.010210</td>\n",
       "      <td>2</td>\n",
       "    </tr>\n",
       "    <tr>\n",
       "      <th>4</th>\n",
       "      <td>0.579993</td>\n",
       "      <td>0.019191</td>\n",
       "      <td>0.131414</td>\n",
       "      <td>0.012673</td>\n",
       "      <td>None</td>\n",
       "      <td>(1, 1)</td>\n",
       "      <td>{'tfidf__max_features': None, 'tfidf__ngram_ra...</td>\n",
       "      <td>0.603073</td>\n",
       "      <td>0.594430</td>\n",
       "      <td>0.613956</td>\n",
       "      <td>0.586748</td>\n",
       "      <td>0.606274</td>\n",
       "      <td>0.600896</td>\n",
       "      <td>0.009447</td>\n",
       "      <td>6</td>\n",
       "    </tr>\n",
       "    <tr>\n",
       "      <th>5</th>\n",
       "      <td>2.296108</td>\n",
       "      <td>0.082377</td>\n",
       "      <td>0.282380</td>\n",
       "      <td>0.008862</td>\n",
       "      <td>None</td>\n",
       "      <td>(1, 2)</td>\n",
       "      <td>{'tfidf__max_features': None, 'tfidf__ngram_ra...</td>\n",
       "      <td>0.617157</td>\n",
       "      <td>0.613316</td>\n",
       "      <td>0.630922</td>\n",
       "      <td>0.605314</td>\n",
       "      <td>0.616517</td>\n",
       "      <td>0.616645</td>\n",
       "      <td>0.008290</td>\n",
       "      <td>1</td>\n",
       "    </tr>\n",
       "  </tbody>\n",
       "</table>\n",
       "</div>"
      ],
      "text/plain": [
       "   mean_fit_time  std_fit_time  mean_score_time  std_score_time  \\\n",
       "0       0.609010      0.066365         0.126326        0.010793   \n",
       "1       2.268004      0.033509         0.225722        0.015769   \n",
       "2       0.559847      0.011070         0.127364        0.009170   \n",
       "3       2.301815      0.069832         0.236847        0.017014   \n",
       "4       0.579993      0.019191         0.131414        0.012673   \n",
       "5       2.296108      0.082377         0.282380        0.008862   \n",
       "\n",
       "  param_tfidf__max_features param_tfidf__ngram_range  \\\n",
       "0                      5000                   (1, 1)   \n",
       "1                      5000                   (1, 2)   \n",
       "2                     10000                   (1, 1)   \n",
       "3                     10000                   (1, 2)   \n",
       "4                      None                   (1, 1)   \n",
       "5                      None                   (1, 2)   \n",
       "\n",
       "                                              params  split0_test_score  \\\n",
       "0  {'tfidf__max_features': 5000, 'tfidf__ngram_ra...           0.605634   \n",
       "1  {'tfidf__max_features': 5000, 'tfidf__ngram_ra...           0.603713   \n",
       "2  {'tfidf__max_features': 10000, 'tfidf__ngram_r...           0.606274   \n",
       "3  {'tfidf__max_features': 10000, 'tfidf__ngram_r...           0.612996   \n",
       "4  {'tfidf__max_features': None, 'tfidf__ngram_ra...           0.603073   \n",
       "5  {'tfidf__max_features': None, 'tfidf__ngram_ra...           0.617157   \n",
       "\n",
       "   split1_test_score  split2_test_score  split3_test_score  split4_test_score  \\\n",
       "0           0.597951           0.613956           0.588988           0.599872   \n",
       "1           0.599232           0.612676           0.589949           0.610435   \n",
       "2           0.596351           0.617798           0.587388           0.606914   \n",
       "3           0.608515           0.625160           0.593470           0.612996   \n",
       "4           0.594430           0.613956           0.586748           0.606274   \n",
       "5           0.613316           0.630922           0.605314           0.616517   \n",
       "\n",
       "   mean_test_score  std_test_score  rank_test_score  \n",
       "0         0.601280        0.008292                5  \n",
       "1         0.603201        0.008170                3  \n",
       "2         0.602945        0.010324                4  \n",
       "3         0.610627        0.010210                2  \n",
       "4         0.600896        0.009447                6  \n",
       "5         0.616645        0.008290                1  "
      ]
     },
     "execution_count": 16,
     "metadata": {},
     "output_type": "execute_result"
    }
   ],
   "source": [
    "pd.DataFrame(grid.cv_results_)"
   ]
  },
  {
   "cell_type": "code",
   "execution_count": 17,
   "id": "9edffa21-4832-4a0b-bba9-ce5b0e8f1a9f",
   "metadata": {},
   "outputs": [
    {
     "data": {
      "text/plain": [
       "{'tfidf__max_features': None, 'tfidf__ngram_range': (1, 2)}"
      ]
     },
     "execution_count": 17,
     "metadata": {},
     "output_type": "execute_result"
    }
   ],
   "source": [
    "grid.best_params_"
   ]
  },
  {
   "cell_type": "code",
   "execution_count": 19,
   "id": "f4615451-758f-44dc-8fe4-b12b0f553504",
   "metadata": {},
   "outputs": [],
   "source": [
    "pickle.dump(grid.best_estimator_, open(\"../models/rocchio.sav\", 'wb'))"
   ]
  },
  {
   "cell_type": "code",
   "execution_count": null,
   "id": "f9646940-39bb-4996-8dd0-4f1cfc46101e",
   "metadata": {},
   "outputs": [],
   "source": []
  }
 ],
 "metadata": {
  "kernelspec": {
   "display_name": "Python 3",
   "language": "python",
   "name": "python3"
  },
  "language_info": {
   "codemirror_mode": {
    "name": "ipython",
    "version": 3
   },
   "file_extension": ".py",
   "mimetype": "text/x-python",
   "name": "python",
   "nbconvert_exporter": "python",
   "pygments_lexer": "ipython3",
   "version": "3.8.5"
  }
 },
 "nbformat": 4,
 "nbformat_minor": 5
}
