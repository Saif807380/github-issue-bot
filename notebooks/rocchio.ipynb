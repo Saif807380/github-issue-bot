{
 "cells": [
  {
   "cell_type": "markdown",
   "id": "c5b4d3db-c7bd-40ea-ac77-e55532221881",
   "metadata": {},
   "source": [
    "# Rocchio classifier"
   ]
  },
  {
   "cell_type": "code",
   "execution_count": 34,
   "id": "9c47881b-a4e1-4db8-a644-280aac70725c",
   "metadata": {},
   "outputs": [],
   "source": [
    "import numpy as np\n",
    "import pandas as pd\n",
    "from sklearn.neighbors import NearestCentroid\n",
    "from sklearn.pipeline import Pipeline\n",
    "from sklearn import metrics\n",
    "from sklearn.feature_extraction.text import CountVectorizer, TfidfTransformer, TfidfVectorizer\n",
    "from sklearn.model_selection import train_test_split"
   ]
  },
  {
   "cell_type": "code",
   "execution_count": 20,
   "id": "ec81ab6b-c134-4b00-8caf-d78ff791cc8b",
   "metadata": {},
   "outputs": [],
   "source": [
    "df = pd.read_csv(\"../dataset/saif_processed.csv\")"
   ]
  },
  {
   "cell_type": "code",
   "execution_count": 21,
   "id": "4f5dede4-574d-49ac-8e97-9ce4572b71b5",
   "metadata": {},
   "outputs": [
    {
     "data": {
      "text/html": [
       "<div>\n",
       "<style scoped>\n",
       "    .dataframe tbody tr th:only-of-type {\n",
       "        vertical-align: middle;\n",
       "    }\n",
       "\n",
       "    .dataframe tbody tr th {\n",
       "        vertical-align: top;\n",
       "    }\n",
       "\n",
       "    .dataframe thead th {\n",
       "        text-align: right;\n",
       "    }\n",
       "</style>\n",
       "<table border=\"1\" class=\"dataframe\">\n",
       "  <thead>\n",
       "    <tr style=\"text-align: right;\">\n",
       "      <th></th>\n",
       "      <th>issue</th>\n",
       "      <th>label</th>\n",
       "      <th>label_name</th>\n",
       "    </tr>\n",
       "  </thead>\n",
       "  <tbody>\n",
       "    <tr>\n",
       "      <th>0</th>\n",
       "      <td>append new column neccesary bot append new col...</td>\n",
       "      <td>0</td>\n",
       "      <td>bug</td>\n",
       "    </tr>\n",
       "    <tr>\n",
       "      <th>1</th>\n",
       "      <td>student currentsemester would show sections st...</td>\n",
       "      <td>0</td>\n",
       "      <td>bug</td>\n",
       "    </tr>\n",
       "    <tr>\n",
       "      <th>2</th>\n",
       "      <td>duplicate articles toc causes weird behavior t...</td>\n",
       "      <td>0</td>\n",
       "      <td>bug</td>\n",
       "    </tr>\n",
       "    <tr>\n",
       "      <th>3</th>\n",
       "      <td>fix typo collection finder py summary describe...</td>\n",
       "      <td>0</td>\n",
       "      <td>bug</td>\n",
       "    </tr>\n",
       "    <tr>\n",
       "      <th>4</th>\n",
       "      <td>zimagi dbshell find psql moreover looks even p...</td>\n",
       "      <td>0</td>\n",
       "      <td>bug</td>\n",
       "    </tr>\n",
       "  </tbody>\n",
       "</table>\n",
       "</div>"
      ],
      "text/plain": [
       "                                               issue  label label_name\n",
       "0  append new column neccesary bot append new col...      0        bug\n",
       "1  student currentsemester would show sections st...      0        bug\n",
       "2  duplicate articles toc causes weird behavior t...      0        bug\n",
       "3  fix typo collection finder py summary describe...      0        bug\n",
       "4  zimagi dbshell find psql moreover looks even p...      0        bug"
      ]
     },
     "execution_count": 21,
     "metadata": {},
     "output_type": "execute_result"
    }
   ],
   "source": [
    "df.head()"
   ]
  },
  {
   "cell_type": "code",
   "execution_count": 26,
   "id": "eaf17852-6aa7-48de-9ef1-5876709b88d8",
   "metadata": {},
   "outputs": [],
   "source": [
    "X = df[\"issue\"].apply(lambda x: np.str_(x))\n",
    "y = df[\"label\"]"
   ]
  },
  {
   "cell_type": "code",
   "execution_count": 56,
   "id": "96a8537e-c3c4-4b86-b1d4-cdd44ac2247a",
   "metadata": {},
   "outputs": [],
   "source": [
    "X_train, X_test, y_train, y_test = train_test_split(X, y, test_size=0.20)"
   ]
  },
  {
   "cell_type": "code",
   "execution_count": 57,
   "id": "daa3b72d-e9e0-4a6e-88f4-8de59c5fcf8e",
   "metadata": {},
   "outputs": [],
   "source": [
    "text_clf = Pipeline([('tfidf', TfidfVectorizer()),\n",
    "                     ('clf', NearestCentroid()),\n",
    "                     ])"
   ]
  },
  {
   "cell_type": "code",
   "execution_count": 58,
   "id": "6c4f825f-7d69-432d-93dd-7c86d1cfe255",
   "metadata": {},
   "outputs": [
    {
     "data": {
      "text/plain": [
       "Pipeline(steps=[('tfidf', TfidfVectorizer()), ('clf', NearestCentroid())])"
      ]
     },
     "execution_count": 58,
     "metadata": {},
     "output_type": "execute_result"
    }
   ],
   "source": [
    "text_clf.fit(X_train, y_train)"
   ]
  },
  {
   "cell_type": "code",
   "execution_count": 59,
   "id": "2f531481-f150-48f3-bd89-611681a80254",
   "metadata": {},
   "outputs": [],
   "source": [
    "predicted = text_clf.predict(X_test)"
   ]
  },
  {
   "cell_type": "code",
   "execution_count": 60,
   "id": "263872d6-79bd-4898-a3dc-79456d6dda84",
   "metadata": {},
   "outputs": [
    {
     "name": "stdout",
     "output_type": "stream",
     "text": [
      "              precision    recall  f1-score   support\n",
      "\n",
      "           0       0.48      0.53      0.50       483\n",
      "           1       0.59      0.60      0.60       441\n",
      "           2       0.75      0.63      0.68       859\n",
      "           3       0.63      0.64      0.64      1282\n",
      "           4       0.77      0.48      0.59       340\n",
      "           5       0.43      0.60      0.50       500\n",
      "\n",
      "    accuracy                           0.60      3905\n",
      "   macro avg       0.61      0.58      0.59      3905\n",
      "weighted avg       0.62      0.60      0.60      3905\n",
      "\n"
     ]
    }
   ],
   "source": [
    "print(metrics.classification_report(y_test, predicted))"
   ]
  },
  {
   "cell_type": "code",
   "execution_count": null,
   "id": "7d4b8a94-6b33-4749-a673-cb8affa42f8d",
   "metadata": {},
   "outputs": [],
   "source": []
  }
 ],
 "metadata": {
  "kernelspec": {
   "display_name": "Python 3",
   "language": "python",
   "name": "python3"
  },
  "language_info": {
   "codemirror_mode": {
    "name": "ipython",
    "version": 3
   },
   "file_extension": ".py",
   "mimetype": "text/x-python",
   "name": "python",
   "nbconvert_exporter": "python",
   "pygments_lexer": "ipython3",
   "version": "3.8.5"
  }
 },
 "nbformat": 4,
 "nbformat_minor": 5
}
