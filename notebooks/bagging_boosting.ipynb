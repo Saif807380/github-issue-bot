{
 "cells": [
  {
   "cell_type": "code",
   "execution_count": 1,
   "id": "be9a4132-d862-4d17-9732-fd551f3b00dc",
   "metadata": {},
   "outputs": [],
   "source": [
    "import numpy as np\n",
    "import pandas as pd\n",
    "from sklearn.ensemble import GradientBoostingClassifier\n",
    "from sklearn.ensemble import BaggingClassifier\n",
    "from sklearn.neighbors import KNeighborsClassifier\n",
    "from sklearn.pipeline import Pipeline\n",
    "from sklearn import metrics\n",
    "from sklearn.feature_extraction.text import TfidfVectorizer\n",
    "from sklearn.model_selection import train_test_split"
   ]
  },
  {
   "cell_type": "code",
   "execution_count": 2,
   "id": "6f2d701b-6570-47e3-b528-d829455b36de",
   "metadata": {},
   "outputs": [],
   "source": [
    "df = pd.read_csv(\"../dataset/saif_processed.csv\")"
   ]
  },
  {
   "cell_type": "code",
   "execution_count": 4,
   "id": "648c5923-67d5-4c49-8eb4-6f6b0185fb8c",
   "metadata": {},
   "outputs": [],
   "source": [
    "X = df[\"issue\"].apply(lambda x: np.str_(x))\n",
    "y = df[\"label\"]"
   ]
  },
  {
   "cell_type": "code",
   "execution_count": 12,
   "id": "55406d4f-cacd-4fc9-a13c-943296b8f6a6",
   "metadata": {},
   "outputs": [],
   "source": [
    "X_train, X_test, y_train, y_test = train_test_split(X, y, test_size=0.15)"
   ]
  },
  {
   "cell_type": "markdown",
   "id": "9cc0ea02-55df-48c0-b8ae-7d13ba02c051",
   "metadata": {},
   "source": [
    "# Bagging with KNN as base estimator"
   ]
  },
  {
   "cell_type": "code",
   "execution_count": 13,
   "id": "531df4fb-fdfe-4a7a-8e9d-d576e5e0c48d",
   "metadata": {},
   "outputs": [],
   "source": [
    "text_clf = Pipeline([('tfidf', TfidfVectorizer()),\n",
    "                     ('clf', BaggingClassifier(KNeighborsClassifier())),\n",
    "                     ])"
   ]
  },
  {
   "cell_type": "code",
   "execution_count": 14,
   "id": "68f5f1b8-52ad-4a55-a529-281d66988ad3",
   "metadata": {},
   "outputs": [
    {
     "data": {
      "text/plain": [
       "Pipeline(steps=[('tfidf', TfidfVectorizer()),\n",
       "                ('clf',\n",
       "                 BaggingClassifier(base_estimator=KNeighborsClassifier()))])"
      ]
     },
     "execution_count": 14,
     "metadata": {},
     "output_type": "execute_result"
    }
   ],
   "source": [
    "text_clf.fit(X_train, y_train)"
   ]
  },
  {
   "cell_type": "code",
   "execution_count": 15,
   "id": "4f257c83-1b5d-46b6-82e4-7aa86a18676f",
   "metadata": {},
   "outputs": [],
   "source": [
    "predicted = text_clf.predict(X_test)"
   ]
  },
  {
   "cell_type": "code",
   "execution_count": 16,
   "id": "54c483ae-7faa-4cac-b2ca-43bbed9c8f7e",
   "metadata": {},
   "outputs": [
    {
     "name": "stdout",
     "output_type": "stream",
     "text": [
      "              precision    recall  f1-score   support\n",
      "\n",
      "           0       0.52      0.32      0.40       369\n",
      "           1       0.60      0.56      0.58       322\n",
      "           2       0.59      0.70      0.64       629\n",
      "           3       0.55      0.67      0.61       963\n",
      "           4       0.65      0.65      0.65       270\n",
      "           5       0.51      0.27      0.36       376\n",
      "\n",
      "    accuracy                           0.57      2929\n",
      "   macro avg       0.57      0.53      0.54      2929\n",
      "weighted avg       0.56      0.57      0.56      2929\n",
      "\n"
     ]
    }
   ],
   "source": [
    "print(metrics.classification_report(y_test, predicted))"
   ]
  },
  {
   "cell_type": "markdown",
   "id": "ca45906a-f552-4429-ae59-863e49d3cca6",
   "metadata": {},
   "source": [
    "# Bagging with Decision Tree Classifier"
   ]
  },
  {
   "cell_type": "code",
   "execution_count": 17,
   "id": "6a1a22a7-3612-4cd3-b1bf-f0479bfc3d51",
   "metadata": {},
   "outputs": [],
   "source": [
    "text_clf = Pipeline([('tfidf', TfidfVectorizer()),\n",
    "                     ('clf', BaggingClassifier()),\n",
    "                     ])"
   ]
  },
  {
   "cell_type": "code",
   "execution_count": 18,
   "id": "33d6f167-5443-475f-bf60-4c58b798504b",
   "metadata": {},
   "outputs": [
    {
     "data": {
      "text/plain": [
       "Pipeline(steps=[('tfidf', TfidfVectorizer()), ('clf', BaggingClassifier())])"
      ]
     },
     "execution_count": 18,
     "metadata": {},
     "output_type": "execute_result"
    }
   ],
   "source": [
    "text_clf.fit(X_train, y_train)"
   ]
  },
  {
   "cell_type": "code",
   "execution_count": 19,
   "id": "2fb12886-b202-4e39-9c8c-0912db7eb023",
   "metadata": {},
   "outputs": [],
   "source": [
    "predicted = text_clf.predict(X_test)"
   ]
  },
  {
   "cell_type": "code",
   "execution_count": 20,
   "id": "6237903d-1145-48b6-a4b9-2fa82e73f3c5",
   "metadata": {},
   "outputs": [
    {
     "name": "stdout",
     "output_type": "stream",
     "text": [
      "              precision    recall  f1-score   support\n",
      "\n",
      "           0       0.51      0.58      0.54       369\n",
      "           1       0.65      0.45      0.53       322\n",
      "           2       0.74      0.73      0.74       629\n",
      "           3       0.61      0.76      0.68       963\n",
      "           4       0.71      0.46      0.56       270\n",
      "           5       0.53      0.41      0.46       376\n",
      "\n",
      "    accuracy                           0.62      2929\n",
      "   macro avg       0.63      0.56      0.58      2929\n",
      "weighted avg       0.63      0.62      0.62      2929\n",
      "\n"
     ]
    }
   ],
   "source": [
    "print(metrics.classification_report(y_test, predicted))"
   ]
  },
  {
   "cell_type": "markdown",
   "id": "98ec67ee-0aa2-46dd-91ca-34296a96a2a4",
   "metadata": {},
   "source": [
    "# Scikit-learn Boosting"
   ]
  },
  {
   "cell_type": "code",
   "execution_count": 21,
   "id": "f5ef1a0b-271e-4b4b-811b-a2d5a3895517",
   "metadata": {},
   "outputs": [],
   "source": [
    "text_clf = Pipeline([('tfidf', TfidfVectorizer()),\n",
    "                     ('clf', GradientBoostingClassifier(n_estimators=100)),\n",
    "                     ])"
   ]
  },
  {
   "cell_type": "code",
   "execution_count": 22,
   "id": "9d3e7d7b-03d7-43f7-9522-35456b4f6aa9",
   "metadata": {},
   "outputs": [
    {
     "data": {
      "text/plain": [
       "Pipeline(steps=[('tfidf', TfidfVectorizer()),\n",
       "                ('clf', GradientBoostingClassifier())])"
      ]
     },
     "execution_count": 22,
     "metadata": {},
     "output_type": "execute_result"
    }
   ],
   "source": [
    "text_clf.fit(X_train, y_train)"
   ]
  },
  {
   "cell_type": "code",
   "execution_count": 23,
   "id": "a3d4814e-af0d-4490-a8fe-fd19540966df",
   "metadata": {},
   "outputs": [],
   "source": [
    "predicted = text_clf.predict(X_test)"
   ]
  },
  {
   "cell_type": "code",
   "execution_count": 24,
   "id": "5200a106-6115-4d4b-abf9-b549b96f4c18",
   "metadata": {},
   "outputs": [
    {
     "name": "stdout",
     "output_type": "stream",
     "text": [
      "              precision    recall  f1-score   support\n",
      "\n",
      "           0       0.67      0.48      0.56       369\n",
      "           1       0.78      0.43      0.55       322\n",
      "           2       0.81      0.69      0.74       629\n",
      "           3       0.55      0.87      0.68       963\n",
      "           4       0.87      0.59      0.70       270\n",
      "           5       0.68      0.45      0.55       376\n",
      "\n",
      "    accuracy                           0.65      2929\n",
      "   macro avg       0.73      0.58      0.63      2929\n",
      "weighted avg       0.69      0.65      0.65      2929\n",
      "\n"
     ]
    }
   ],
   "source": [
    "print(metrics.classification_report(y_test, predicted))"
   ]
  },
  {
   "cell_type": "markdown",
   "id": "e322e87b-a0f7-4cb3-90cc-08baacd5d9c6",
   "metadata": {},
   "source": [
    "# XGBoost classifier"
   ]
  },
  {
   "cell_type": "code",
   "execution_count": 28,
   "id": "5b9f2182-8435-47e4-a55d-ebf5ca046f1f",
   "metadata": {},
   "outputs": [],
   "source": [
    "import xgboost"
   ]
  },
  {
   "cell_type": "code",
   "execution_count": 25,
   "id": "ee0bbca3-a3e1-4f68-a3e2-23b875b109c8",
   "metadata": {},
   "outputs": [],
   "source": [
    "tfidf_vect = TfidfVectorizer(analyzer='word', token_pattern=r'\\w{1,}')"
   ]
  },
  {
   "cell_type": "code",
   "execution_count": 26,
   "id": "717e91c9-d974-4f61-9ae9-27347abddb15",
   "metadata": {},
   "outputs": [
    {
     "data": {
      "text/plain": [
       "TfidfVectorizer(token_pattern='\\\\w{1,}')"
      ]
     },
     "execution_count": 26,
     "metadata": {},
     "output_type": "execute_result"
    }
   ],
   "source": [
    "tfidf_vect.fit(X_train)"
   ]
  },
  {
   "cell_type": "code",
   "execution_count": 27,
   "id": "46bcba5e-b828-4424-8646-95d5ac43796b",
   "metadata": {},
   "outputs": [],
   "source": [
    "X_train_tfidf = tfidf_vect.transform(X_train)\n",
    "X_test_tfidf = tfidf_vect.transform(X_test)"
   ]
  },
  {
   "cell_type": "code",
   "execution_count": 29,
   "id": "2d6e315e-1019-43f2-b40f-5f3744e9273d",
   "metadata": {},
   "outputs": [],
   "source": [
    "clf = xgboost.XGBClassifier()"
   ]
  },
  {
   "cell_type": "code",
   "execution_count": 32,
   "id": "0116fcdd-3bed-4d5d-8a04-8af85e203e88",
   "metadata": {},
   "outputs": [
    {
     "name": "stderr",
     "output_type": "stream",
     "text": [
      "/home/saifkazi/Desktop/github-issue-bot/venv/lib/python3.8/site-packages/xgboost/sklearn.py:1146: UserWarning: The use of label encoder in XGBClassifier is deprecated and will be removed in a future release. To remove this warning, do the following: 1) Pass option use_label_encoder=False when constructing XGBClassifier object; and 2) Encode your labels (y) as integers starting with 0, i.e. 0, 1, 2, ..., [num_class - 1].\n",
      "  warnings.warn(label_encoder_deprecation_msg, UserWarning)\n"
     ]
    },
    {
     "name": "stdout",
     "output_type": "stream",
     "text": [
      "[01:01:55] WARNING: ../src/learner.cc:1095: Starting in XGBoost 1.3.0, the default evaluation metric used with the objective 'multi:softprob' was changed from 'merror' to 'mlogloss'. Explicitly set eval_metric if you'd like to restore the old behavior.\n"
     ]
    },
    {
     "data": {
      "text/plain": [
       "XGBClassifier(base_score=0.5, booster='gbtree', colsample_bylevel=1,\n",
       "              colsample_bynode=1, colsample_bytree=1, gamma=0, gpu_id=-1,\n",
       "              importance_type='gain', interaction_constraints='',\n",
       "              learning_rate=0.300000012, max_delta_step=0, max_depth=6,\n",
       "              min_child_weight=1, missing=nan, monotone_constraints='()',\n",
       "              n_estimators=100, n_jobs=4, num_parallel_tree=1,\n",
       "              objective='multi:softprob', random_state=0, reg_alpha=0,\n",
       "              reg_lambda=1, scale_pos_weight=None, subsample=1,\n",
       "              tree_method='exact', validate_parameters=1, verbosity=None)"
      ]
     },
     "execution_count": 32,
     "metadata": {},
     "output_type": "execute_result"
    }
   ],
   "source": [
    "clf.fit(X_train_tfidf.tocsc(), y_train)"
   ]
  },
  {
   "cell_type": "code",
   "execution_count": 33,
   "id": "58caab04-4793-4c1b-8a36-3605ebd9a93c",
   "metadata": {},
   "outputs": [],
   "source": [
    "predictions = clf.predict(X_test_tfidf.tocsc())"
   ]
  },
  {
   "cell_type": "code",
   "execution_count": 34,
   "id": "78709086-2541-4b21-9829-ccd6482fa494",
   "metadata": {},
   "outputs": [
    {
     "name": "stdout",
     "output_type": "stream",
     "text": [
      "              precision    recall  f1-score   support\n",
      "\n",
      "           0       0.67      0.48      0.56       369\n",
      "           1       0.78      0.43      0.55       322\n",
      "           2       0.81      0.69      0.74       629\n",
      "           3       0.55      0.87      0.68       963\n",
      "           4       0.87      0.59      0.70       270\n",
      "           5       0.68      0.45      0.55       376\n",
      "\n",
      "    accuracy                           0.65      2929\n",
      "   macro avg       0.73      0.58      0.63      2929\n",
      "weighted avg       0.69      0.65      0.65      2929\n",
      "\n"
     ]
    }
   ],
   "source": [
    "print(metrics.classification_report(y_test, predicted))"
   ]
  }
 ],
 "metadata": {
  "kernelspec": {
   "display_name": "Python 3",
   "language": "python",
   "name": "python3"
  },
  "language_info": {
   "codemirror_mode": {
    "name": "ipython",
    "version": 3
   },
   "file_extension": ".py",
   "mimetype": "text/x-python",
   "name": "python",
   "nbconvert_exporter": "python",
   "pygments_lexer": "ipython3",
   "version": "3.8.5"
  }
 },
 "nbformat": 4,
 "nbformat_minor": 5
}
