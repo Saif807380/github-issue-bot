{
  "nbformat": 4,
  "nbformat_minor": 5,
  "metadata": {
    "kernelspec": {
      "display_name": "Python 3",
      "language": "python",
      "name": "python3"
    },
    "language_info": {
      "codemirror_mode": {
        "name": "ipython",
        "version": 3
      },
      "file_extension": ".py",
      "mimetype": "text/x-python",
      "name": "python",
      "nbconvert_exporter": "python",
      "pygments_lexer": "ipython3",
      "version": "3.8.5"
    },
    "colab": {
      "name": "bagging.ipynb",
      "provenance": []
    },
    "accelerator": "GPU"
  },
  "cells": [
    {
      "cell_type": "code",
      "metadata": {
        "id": "be9a4132-d862-4d17-9732-fd551f3b00dc"
      },
      "source": [
        "import numpy as np\n",
        "import pandas as pd\n",
        "from sklearn.ensemble import GradientBoostingClassifier\n",
        "from sklearn.ensemble import BaggingClassifier\n",
        "from sklearn.neighbors import KNeighborsClassifier\n",
        "from sklearn.pipeline import Pipeline\n",
        "from sklearn import metrics\n",
        "from sklearn.feature_extraction.text import TfidfVectorizer\n",
        "from sklearn.model_selection import train_test_split, GridSearchCV\n",
        "import pickle"
      ],
      "id": "be9a4132-d862-4d17-9732-fd551f3b00dc",
      "execution_count": 8,
      "outputs": []
    },
    {
      "cell_type": "code",
      "metadata": {
        "colab": {
          "base_uri": "https://localhost:8080/"
        },
        "id": "AEI1tNtIkBCY",
        "outputId": "267c972b-1c1d-405c-9d0a-5338e410783c"
      },
      "source": [
        "from google.colab import drive\n",
        "drive.mount('/content/drive')"
      ],
      "id": "AEI1tNtIkBCY",
      "execution_count": 1,
      "outputs": [
        {
          "output_type": "stream",
          "text": [
            "Mounted at /content/drive\n"
          ],
          "name": "stdout"
        }
      ]
    },
    {
      "cell_type": "code",
      "metadata": {
        "id": "6f2d701b-6570-47e3-b528-d829455b36de"
      },
      "source": [
        "df = pd.read_csv(\"/content/drive/MyDrive/github-issue-bot/saif_processed.csv\")"
      ],
      "id": "6f2d701b-6570-47e3-b528-d829455b36de",
      "execution_count": 9,
      "outputs": []
    },
    {
      "cell_type": "code",
      "metadata": {
        "id": "648c5923-67d5-4c49-8eb4-6f6b0185fb8c"
      },
      "source": [
        "X = df[\"issue\"].apply(lambda x: np.str_(x))\n",
        "y = df[\"label\"]"
      ],
      "id": "648c5923-67d5-4c49-8eb4-6f6b0185fb8c",
      "execution_count": 11,
      "outputs": []
    },
    {
      "cell_type": "code",
      "metadata": {
        "id": "55406d4f-cacd-4fc9-a13c-943296b8f6a6"
      },
      "source": [
        "X_train, X_test, y_train, y_test = train_test_split(X, y, test_size=0.15)"
      ],
      "id": "55406d4f-cacd-4fc9-a13c-943296b8f6a6",
      "execution_count": 12,
      "outputs": []
    },
    {
      "cell_type": "markdown",
      "metadata": {
        "id": "9cc0ea02-55df-48c0-b8ae-7d13ba02c051"
      },
      "source": [
        "# Bagging with KNN as base estimator"
      ],
      "id": "9cc0ea02-55df-48c0-b8ae-7d13ba02c051"
    },
    {
      "cell_type": "code",
      "metadata": {
        "id": "531df4fb-fdfe-4a7a-8e9d-d576e5e0c48d"
      },
      "source": [
        "text_clf = Pipeline([('tfidf', TfidfVectorizer(ngram_range=(1, 2))),\n",
        "                     ('clf', BaggingClassifier(KNeighborsClassifier())),\n",
        "                     ])"
      ],
      "id": "531df4fb-fdfe-4a7a-8e9d-d576e5e0c48d",
      "execution_count": 13,
      "outputs": []
    },
    {
      "cell_type": "code",
      "metadata": {
        "colab": {
          "base_uri": "https://localhost:8080/"
        },
        "id": "68f5f1b8-52ad-4a55-a529-281d66988ad3",
        "outputId": "f192e73f-4dd6-451b-8d73-a77aa68f5384"
      },
      "source": [
        "text_clf.fit(X_train, y_train)"
      ],
      "id": "68f5f1b8-52ad-4a55-a529-281d66988ad3",
      "execution_count": 14,
      "outputs": [
        {
          "output_type": "execute_result",
          "data": {
            "text/plain": [
              "Pipeline(memory=None,\n",
              "         steps=[('tfidf',\n",
              "                 TfidfVectorizer(analyzer='word', binary=False,\n",
              "                                 decode_error='strict',\n",
              "                                 dtype=<class 'numpy.float64'>,\n",
              "                                 encoding='utf-8', input='content',\n",
              "                                 lowercase=True, max_df=1.0, max_features=None,\n",
              "                                 min_df=1, ngram_range=(1, 2), norm='l2',\n",
              "                                 preprocessor=None, smooth_idf=True,\n",
              "                                 stop_words=None, strip_accents=None,\n",
              "                                 sublinear_tf=False,\n",
              "                                 token_pattern='...\n",
              "                 BaggingClassifier(base_estimator=KNeighborsClassifier(algorithm='auto',\n",
              "                                                                       leaf_size=30,\n",
              "                                                                       metric='minkowski',\n",
              "                                                                       metric_params=None,\n",
              "                                                                       n_jobs=None,\n",
              "                                                                       n_neighbors=5,\n",
              "                                                                       p=2,\n",
              "                                                                       weights='uniform'),\n",
              "                                   bootstrap=True, bootstrap_features=False,\n",
              "                                   max_features=1.0, max_samples=1.0,\n",
              "                                   n_estimators=10, n_jobs=None,\n",
              "                                   oob_score=False, random_state=None,\n",
              "                                   verbose=0, warm_start=False))],\n",
              "         verbose=False)"
            ]
          },
          "metadata": {
            "tags": []
          },
          "execution_count": 14
        }
      ]
    },
    {
      "cell_type": "code",
      "metadata": {
        "id": "4f257c83-1b5d-46b6-82e4-7aa86a18676f"
      },
      "source": [
        "predicted = text_clf.predict(X_test)"
      ],
      "id": "4f257c83-1b5d-46b6-82e4-7aa86a18676f",
      "execution_count": 15,
      "outputs": []
    },
    {
      "cell_type": "code",
      "metadata": {
        "colab": {
          "base_uri": "https://localhost:8080/"
        },
        "id": "54c483ae-7faa-4cac-b2ca-43bbed9c8f7e",
        "outputId": "4c63ed10-1bd6-4b67-ea3b-78624e40b5ac"
      },
      "source": [
        "print(metrics.classification_report(y_test, predicted))"
      ],
      "id": "54c483ae-7faa-4cac-b2ca-43bbed9c8f7e",
      "execution_count": 16,
      "outputs": [
        {
          "output_type": "stream",
          "text": [
            "              precision    recall  f1-score   support\n",
            "\n",
            "           0       0.51      0.42      0.46       361\n",
            "           1       0.57      0.56      0.56       320\n",
            "           2       0.66      0.69      0.68       635\n",
            "           3       0.57      0.66      0.61       961\n",
            "           4       0.67      0.71      0.69       262\n",
            "           5       0.47      0.31      0.37       390\n",
            "\n",
            "    accuracy                           0.58      2929\n",
            "   macro avg       0.57      0.56      0.56      2929\n",
            "weighted avg       0.58      0.58      0.58      2929\n",
            "\n"
          ],
          "name": "stdout"
        }
      ]
    },
    {
      "cell_type": "markdown",
      "metadata": {
        "id": "ca45906a-f552-4429-ae59-863e49d3cca6"
      },
      "source": [
        "# Bagging with Decision Tree Classifier"
      ],
      "id": "ca45906a-f552-4429-ae59-863e49d3cca6"
    },
    {
      "cell_type": "code",
      "metadata": {
        "id": "6a1a22a7-3612-4cd3-b1bf-f0479bfc3d51"
      },
      "source": [
        "text_clf = Pipeline([('tfidf', TfidfVectorizer(ngram_range=(1, 2))),\n",
        "                     ('clf', BaggingClassifier()),\n",
        "                     ])"
      ],
      "id": "6a1a22a7-3612-4cd3-b1bf-f0479bfc3d51",
      "execution_count": 30,
      "outputs": []
    },
    {
      "cell_type": "code",
      "metadata": {
        "colab": {
          "base_uri": "https://localhost:8080/"
        },
        "id": "33d6f167-5443-475f-bf60-4c58b798504b",
        "outputId": "22b03c7d-0023-4dfd-f0ea-dd442282d5b0"
      },
      "source": [
        "text_clf.fit(X_train, y_train)"
      ],
      "id": "33d6f167-5443-475f-bf60-4c58b798504b",
      "execution_count": 31,
      "outputs": [
        {
          "output_type": "execute_result",
          "data": {
            "text/plain": [
              "Pipeline(memory=None,\n",
              "         steps=[('tfidf',\n",
              "                 TfidfVectorizer(analyzer='word', binary=False,\n",
              "                                 decode_error='strict',\n",
              "                                 dtype=<class 'numpy.float64'>,\n",
              "                                 encoding='utf-8', input='content',\n",
              "                                 lowercase=True, max_df=1.0, max_features=None,\n",
              "                                 min_df=1, ngram_range=(1, 2), norm='l2',\n",
              "                                 preprocessor=None, smooth_idf=True,\n",
              "                                 stop_words=None, strip_accents=None,\n",
              "                                 sublinear_tf=False,\n",
              "                                 token_pattern='(?u)\\\\b\\\\w\\\\w+\\\\b',\n",
              "                                 tokenizer=None, use_idf=True,\n",
              "                                 vocabulary=None)),\n",
              "                ('clf',\n",
              "                 BaggingClassifier(base_estimator=None, bootstrap=True,\n",
              "                                   bootstrap_features=False, max_features=1.0,\n",
              "                                   max_samples=1.0, n_estimators=10,\n",
              "                                   n_jobs=None, oob_score=False,\n",
              "                                   random_state=None, verbose=0,\n",
              "                                   warm_start=False))],\n",
              "         verbose=False)"
            ]
          },
          "metadata": {
            "tags": []
          },
          "execution_count": 31
        }
      ]
    },
    {
      "cell_type": "code",
      "metadata": {
        "id": "2fb12886-b202-4e39-9c8c-0912db7eb023"
      },
      "source": [
        "predicted = text_clf.predict(X_test)"
      ],
      "id": "2fb12886-b202-4e39-9c8c-0912db7eb023",
      "execution_count": 32,
      "outputs": []
    },
    {
      "cell_type": "code",
      "metadata": {
        "colab": {
          "base_uri": "https://localhost:8080/"
        },
        "id": "6237903d-1145-48b6-a4b9-2fa82e73f3c5",
        "outputId": "558a8974-f12a-4650-92c4-c1d36ba4c358"
      },
      "source": [
        "print(metrics.classification_report(y_test, predicted))"
      ],
      "id": "6237903d-1145-48b6-a4b9-2fa82e73f3c5",
      "execution_count": 33,
      "outputs": [
        {
          "output_type": "stream",
          "text": [
            "              precision    recall  f1-score   support\n",
            "\n",
            "           0       0.54      0.58      0.56       361\n",
            "           1       0.59      0.48      0.53       320\n",
            "           2       0.71      0.72      0.71       635\n",
            "           3       0.61      0.72      0.66       961\n",
            "           4       0.71      0.55      0.62       262\n",
            "           5       0.55      0.41      0.47       390\n",
            "\n",
            "    accuracy                           0.62      2929\n",
            "   macro avg       0.62      0.58      0.59      2929\n",
            "weighted avg       0.62      0.62      0.62      2929\n",
            "\n"
          ],
          "name": "stdout"
        }
      ]
    },
    {
      "cell_type": "code",
      "metadata": {
        "id": "f595a189-4b35-410b-92e9-f1042801c713"
      },
      "source": [
        "with open(\"/content/drive/MyDrive/github-issue-bot/models/bagging.sav\", 'wb') as f:\n",
        "  pickle.dump(text_clf, f)"
      ],
      "id": "f595a189-4b35-410b-92e9-f1042801c713",
      "execution_count": 34,
      "outputs": []
    },
    {
      "cell_type": "code",
      "metadata": {
        "id": "d-qs6BDHaHdU"
      },
      "source": [
        ""
      ],
      "id": "d-qs6BDHaHdU",
      "execution_count": null,
      "outputs": []
    }
  ]
}