{
  "nbformat": 4,
  "nbformat_minor": 5,
  "metadata": {
    "kernelspec": {
      "display_name": "Python 3",
      "language": "python",
      "name": "python3"
    },
    "language_info": {
      "codemirror_mode": {
        "name": "ipython",
        "version": 3
      },
      "file_extension": ".py",
      "mimetype": "text/x-python",
      "name": "python",
      "nbconvert_exporter": "python",
      "pygments_lexer": "ipython3",
      "version": "3.8.5"
    },
    "colab": {
      "name": "boosting.ipynb",
      "provenance": []
    }
  },
  "cells": [
    {
      "cell_type": "code",
      "metadata": {
        "id": "10db028f-9eb8-41bf-8ef6-cad4aa787334"
      },
      "source": [
        "import numpy as np\n",
        "import pandas as pd\n",
        "from sklearn.ensemble import GradientBoostingClassifier\n",
        "from sklearn.pipeline import Pipeline\n",
        "from sklearn import metrics\n",
        "from sklearn.feature_extraction.text import TfidfVectorizer\n",
        "from sklearn.model_selection import train_test_split, GridSearchCV\n",
        "import pickle\n",
        "import xgboost"
      ],
      "id": "10db028f-9eb8-41bf-8ef6-cad4aa787334",
      "execution_count": 1,
      "outputs": []
    },
    {
      "cell_type": "code",
      "metadata": {
        "colab": {
          "base_uri": "https://localhost:8080/"
        },
        "id": "A9IRXN6Mn68V",
        "outputId": "05118238-c69c-414e-e3e7-638910059d6c"
      },
      "source": [
        "from google.colab import drive\n",
        "drive.mount('/content/drive')"
      ],
      "id": "A9IRXN6Mn68V",
      "execution_count": 2,
      "outputs": [
        {
          "output_type": "stream",
          "text": [
            "Drive already mounted at /content/drive; to attempt to forcibly remount, call drive.mount(\"/content/drive\", force_remount=True).\n"
          ],
          "name": "stdout"
        }
      ]
    },
    {
      "cell_type": "code",
      "metadata": {
        "id": "363d4ff8-9448-42c7-aeef-2d4516ed2336"
      },
      "source": [
        "df = pd.read_csv(\"/content/drive/MyDrive/github-issue-bot/saif_processed.csv\")"
      ],
      "id": "363d4ff8-9448-42c7-aeef-2d4516ed2336",
      "execution_count": 3,
      "outputs": []
    },
    {
      "cell_type": "code",
      "metadata": {
        "id": "d82a602f-404a-441a-9641-68714d88a690"
      },
      "source": [
        "X = df[\"issue\"].apply(lambda x: np.str_(x))\n",
        "y = df[\"label\"]"
      ],
      "id": "d82a602f-404a-441a-9641-68714d88a690",
      "execution_count": 4,
      "outputs": []
    },
    {
      "cell_type": "code",
      "metadata": {
        "id": "78f63302-39cd-4ff2-8df5-f03448dbbbcb"
      },
      "source": [
        "X_train, X_test, y_train, y_test = train_test_split(X, y, test_size=0.15)"
      ],
      "id": "78f63302-39cd-4ff2-8df5-f03448dbbbcb",
      "execution_count": 5,
      "outputs": []
    },
    {
      "cell_type": "markdown",
      "metadata": {
        "id": "183df612-5b1b-4f8f-bc53-86ff8e081b8c"
      },
      "source": [
        "# Scikit-learn Boosting"
      ],
      "id": "183df612-5b1b-4f8f-bc53-86ff8e081b8c"
    },
    {
      "cell_type": "code",
      "metadata": {
        "id": "25513734-7fc4-4525-856d-23f20fa798ce"
      },
      "source": [
        "text_clf = Pipeline([('tfidf', TfidfVectorizer(ngram_range=(1, 2))),\n",
        "                     ('clf', GradientBoostingClassifier()),\n",
        "                     ])"
      ],
      "id": "25513734-7fc4-4525-856d-23f20fa798ce",
      "execution_count": 6,
      "outputs": []
    },
    {
      "cell_type": "code",
      "metadata": {
        "colab": {
          "base_uri": "https://localhost:8080/"
        },
        "id": "b29f683a-6834-43d8-a377-951e44ebe0ce",
        "outputId": "347473b6-77a5-4e14-8fcb-5f3c8eb80d2e"
      },
      "source": [
        "text_clf.fit(X_train, y_train)"
      ],
      "id": "b29f683a-6834-43d8-a377-951e44ebe0ce",
      "execution_count": 7,
      "outputs": [
        {
          "output_type": "execute_result",
          "data": {
            "text/plain": [
              "Pipeline(memory=None,\n",
              "         steps=[('tfidf',\n",
              "                 TfidfVectorizer(analyzer='word', binary=False,\n",
              "                                 decode_error='strict',\n",
              "                                 dtype=<class 'numpy.float64'>,\n",
              "                                 encoding='utf-8', input='content',\n",
              "                                 lowercase=True, max_df=1.0, max_features=None,\n",
              "                                 min_df=1, ngram_range=(1, 2), norm='l2',\n",
              "                                 preprocessor=None, smooth_idf=True,\n",
              "                                 stop_words=None, strip_accents=None,\n",
              "                                 sublinear_tf=False,\n",
              "                                 token_pattern='...\n",
              "                                            learning_rate=0.1, loss='deviance',\n",
              "                                            max_depth=3, max_features=None,\n",
              "                                            max_leaf_nodes=None,\n",
              "                                            min_impurity_decrease=0.0,\n",
              "                                            min_impurity_split=None,\n",
              "                                            min_samples_leaf=1,\n",
              "                                            min_samples_split=2,\n",
              "                                            min_weight_fraction_leaf=0.0,\n",
              "                                            n_estimators=100,\n",
              "                                            n_iter_no_change=None,\n",
              "                                            presort='deprecated',\n",
              "                                            random_state=None, subsample=1.0,\n",
              "                                            tol=0.0001, validation_fraction=0.1,\n",
              "                                            verbose=0, warm_start=False))],\n",
              "         verbose=False)"
            ]
          },
          "metadata": {
            "tags": []
          },
          "execution_count": 7
        }
      ]
    },
    {
      "cell_type": "code",
      "metadata": {
        "id": "32bbd4ec-b1e9-4374-b2b5-3eb2849f04db"
      },
      "source": [
        "predicted = text_clf.predict(X_test)"
      ],
      "id": "32bbd4ec-b1e9-4374-b2b5-3eb2849f04db",
      "execution_count": 8,
      "outputs": []
    },
    {
      "cell_type": "code",
      "metadata": {
        "colab": {
          "base_uri": "https://localhost:8080/"
        },
        "id": "400088b6-5247-4be3-ba1e-a5259220c7f3",
        "outputId": "d3996aba-bf1c-4c1e-fa76-02e40c9db9c2"
      },
      "source": [
        "print(metrics.classification_report(y_test, predicted))"
      ],
      "id": "400088b6-5247-4be3-ba1e-a5259220c7f3",
      "execution_count": 9,
      "outputs": [
        {
          "output_type": "stream",
          "text": [
            "              precision    recall  f1-score   support\n",
            "\n",
            "           0       0.64      0.49      0.56       321\n",
            "           1       0.87      0.42      0.57       363\n",
            "           2       0.81      0.72      0.76       635\n",
            "           3       0.57      0.88      0.69       980\n",
            "           4       0.85      0.63      0.73       240\n",
            "           5       0.68      0.45      0.54       390\n",
            "\n",
            "    accuracy                           0.67      2929\n",
            "   macro avg       0.74      0.60      0.64      2929\n",
            "weighted avg       0.71      0.67      0.66      2929\n",
            "\n"
          ],
          "name": "stdout"
        }
      ]
    },
    {
      "cell_type": "code",
      "metadata": {
        "id": "681b36af-2d6d-4e2c-9237-027ddcd32352"
      },
      "source": [
        "with open(\"/content/drive/MyDrive/github-issue-bot/models/sklearn_boosting.sav\", 'wb') as f:\n",
        "    pickle.dump(text_clf, f)"
      ],
      "id": "681b36af-2d6d-4e2c-9237-027ddcd32352",
      "execution_count": 20,
      "outputs": []
    },
    {
      "cell_type": "markdown",
      "metadata": {
        "id": "b19be5a6-b2b0-44c8-bd31-042b26a536e1"
      },
      "source": [
        "# XGBoost classifier"
      ],
      "id": "b19be5a6-b2b0-44c8-bd31-042b26a536e1"
    },
    {
      "cell_type": "code",
      "metadata": {
        "id": "ce495849-a005-4baf-9c18-db9a3753ccea"
      },
      "source": [
        "tfidf_vect = TfidfVectorizer(ngram_range=(1, 2))"
      ],
      "id": "ce495849-a005-4baf-9c18-db9a3753ccea",
      "execution_count": 6,
      "outputs": []
    },
    {
      "cell_type": "code",
      "metadata": {
        "colab": {
          "base_uri": "https://localhost:8080/"
        },
        "id": "d8c27faa-9de4-40d2-9356-81e594b13b1a",
        "outputId": "78bbc92c-32d7-4a5f-f64e-9ba11c763a5f"
      },
      "source": [
        "tfidf_vect.fit(X_train)"
      ],
      "id": "d8c27faa-9de4-40d2-9356-81e594b13b1a",
      "execution_count": 7,
      "outputs": [
        {
          "output_type": "execute_result",
          "data": {
            "text/plain": [
              "TfidfVectorizer(analyzer='word', binary=False, decode_error='strict',\n",
              "                dtype=<class 'numpy.float64'>, encoding='utf-8',\n",
              "                input='content', lowercase=True, max_df=1.0, max_features=None,\n",
              "                min_df=1, ngram_range=(1, 2), norm='l2', preprocessor=None,\n",
              "                smooth_idf=True, stop_words=None, strip_accents=None,\n",
              "                sublinear_tf=False, token_pattern='(?u)\\\\b\\\\w\\\\w+\\\\b',\n",
              "                tokenizer=None, use_idf=True, vocabulary=None)"
            ]
          },
          "metadata": {
            "tags": []
          },
          "execution_count": 7
        }
      ]
    },
    {
      "cell_type": "code",
      "metadata": {
        "id": "5f804901-3dda-4292-84fc-7e1faadb5d59"
      },
      "source": [
        "with open(\"/content/drive/MyDrive/github-issue-bot/models/tfidf.pk\", 'wb') as f:\n",
        "    pickle.dump(tfidf_vect, f)"
      ],
      "id": "5f804901-3dda-4292-84fc-7e1faadb5d59",
      "execution_count": 8,
      "outputs": []
    },
    {
      "cell_type": "code",
      "metadata": {
        "id": "d010deec-44e8-4dba-898d-e28a3d8a5e2e"
      },
      "source": [
        "X_train_tfidf = tfidf_vect.transform(X_train)\n",
        "X_test_tfidf = tfidf_vect.transform(X_test)"
      ],
      "id": "d010deec-44e8-4dba-898d-e28a3d8a5e2e",
      "execution_count": 9,
      "outputs": []
    },
    {
      "cell_type": "code",
      "metadata": {
        "id": "c6162a02-82c6-47bf-a5f1-165222a5771a"
      },
      "source": [
        "clf = xgboost.XGBClassifier(n_jobs=-1, learning_rate=0.1, n_estimators=100)"
      ],
      "id": "c6162a02-82c6-47bf-a5f1-165222a5771a",
      "execution_count": 19,
      "outputs": []
    },
    {
      "cell_type": "code",
      "metadata": {
        "colab": {
          "base_uri": "https://localhost:8080/"
        },
        "id": "c3ad6e4e-8f1c-4717-a69f-cfcff9c9aa69",
        "outputId": "b6145c25-a3a8-4f25-c921-5995db368668"
      },
      "source": [
        "clf.fit(X_train_tfidf.tocsc(), y_train)"
      ],
      "id": "c3ad6e4e-8f1c-4717-a69f-cfcff9c9aa69",
      "execution_count": 20,
      "outputs": [
        {
          "output_type": "execute_result",
          "data": {
            "text/plain": [
              "XGBClassifier(base_score=0.5, booster='gbtree', colsample_bylevel=1,\n",
              "              colsample_bynode=1, colsample_bytree=1, gamma=0,\n",
              "              learning_rate=0.1, max_delta_step=0, max_depth=3,\n",
              "              min_child_weight=1, missing=None, n_estimators=100, n_jobs=-1,\n",
              "              nthread=None, objective='multi:softprob', random_state=0,\n",
              "              reg_alpha=0, reg_lambda=1, scale_pos_weight=1, seed=None,\n",
              "              silent=None, subsample=1, verbosity=1)"
            ]
          },
          "metadata": {
            "tags": []
          },
          "execution_count": 20
        }
      ]
    },
    {
      "cell_type": "code",
      "metadata": {
        "id": "f2e5ae3c-1a9b-44be-b314-e265f3f01475"
      },
      "source": [
        "predictions = clf.predict(X_test_tfidf.tocsc())"
      ],
      "id": "f2e5ae3c-1a9b-44be-b314-e265f3f01475",
      "execution_count": 21,
      "outputs": []
    },
    {
      "cell_type": "code",
      "metadata": {
        "colab": {
          "base_uri": "https://localhost:8080/"
        },
        "id": "411730c0-bd7b-41f4-a789-78dc013e7411",
        "outputId": "463eaa2d-9414-4e26-a4aa-35fa9b2d556a"
      },
      "source": [
        "print(metrics.classification_report(y_test, predictions))"
      ],
      "id": "411730c0-bd7b-41f4-a789-78dc013e7411",
      "execution_count": 22,
      "outputs": [
        {
          "output_type": "stream",
          "text": [
            "              precision    recall  f1-score   support\n",
            "\n",
            "           0       0.65      0.43      0.52       365\n",
            "           1       0.86      0.39      0.54       319\n",
            "           2       0.81      0.69      0.74       646\n",
            "           3       0.53      0.89      0.67       959\n",
            "           4       0.87      0.52      0.65       261\n",
            "           5       0.63      0.40      0.49       379\n",
            "\n",
            "    accuracy                           0.64      2929\n",
            "   macro avg       0.72      0.55      0.60      2929\n",
            "weighted avg       0.69      0.64      0.63      2929\n",
            "\n"
          ],
          "name": "stdout"
        }
      ]
    },
    {
      "cell_type": "code",
      "metadata": {
        "id": "6ye7Ecve4ZSU"
      },
      "source": [
        "with open(\"/content/drive/MyDrive/github-issue-bot/models/xgboost.sav\", 'wb') as f:\n",
        "    pickle.dump(clf, f)"
      ],
      "id": "6ye7Ecve4ZSU",
      "execution_count": 23,
      "outputs": []
    },
    {
      "cell_type": "code",
      "metadata": {
        "id": "Iho8e3RDExsN"
      },
      "source": [
        ""
      ],
      "id": "Iho8e3RDExsN",
      "execution_count": null,
      "outputs": []
    }
  ]
}